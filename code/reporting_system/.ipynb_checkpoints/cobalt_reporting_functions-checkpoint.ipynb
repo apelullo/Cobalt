{
 "cells": [
  {
   "cell_type": "markdown",
   "metadata": {},
   "source": [
    "# Cobalt Reporting Functions\n",
    "* Reporting system function definitions"
   ]
  },
  {
   "cell_type": "code",
   "execution_count": 14,
   "metadata": {},
   "outputs": [],
   "source": [
    "# Modules\n",
    "from cobalt_reporting_parameters import *\n",
    "\n",
    "import pandas as pd\n",
    "import numpy as np\n",
    "\n",
    "import re\n",
    "import copy\n",
    "import datetime\n",
    "from collections import defaultdict\n",
    "\n",
    "import glob\n",
    "import os\n",
    "import psycopg2\n",
    "from sqlalchemy import create_engine\n",
    "\n",
    "import matplotlib.pyplot as plt\n",
    "import matplotlib.dates as mdates\n",
    "import seaborn as sns; "
   ]
  },
  {
   "cell_type": "markdown",
   "metadata": {},
   "source": [
    "# Project"
   ]
  },
  {
   "cell_type": "code",
   "execution_count": 21,
   "metadata": {},
   "outputs": [],
   "source": [
    "\"\"\"\n",
    "def proj_init(purge_existing=False):\n",
    "    dir_dict = {item[0]:item[1] for item in globals().items() if 'PATH' in item[0]}\n",
    "    for item in dir_dict.items():\n",
    "        name = item[0]\n",
    "        value = item[1]\n",
    "        # Create directories\n",
    "        if not os.path.exists(value):\n",
    "            print(f'Creating {name:s} directory at location {value:s}')\n",
    "            os.mkdir(value)\n",
    "        # Purge old output - NEEDS TO BE RESTRICTED TO DATA AND OUTPUT FOLDERS, ARCHIVE FOR 30 DAYS THEN DELETE\n",
    "        elif purge_existing:\n",
    "            print(f'Purging files in {name:s} directory at location {value:s}')\n",
    "            for file in glob.glob(value + '*'):\n",
    "                if os.path.isfile(file):\n",
    "                    os.remove(file)\n",
    "\"\"\""
   ]
  },
  {
   "cell_type": "markdown",
   "metadata": {},
   "source": [
    "# Database"
   ]
  },
  {
   "cell_type": "code",
   "execution_count": null,
   "metadata": {},
   "outputs": [],
   "source": [
    "def database_connect():\n",
    "    # Read-only database connection\n",
    "    read_conn = psycopg2.connect(database=DB_NAME, user=DB_USER, password=DB_PASSWORD, host=DB_HOST, port= '5432')\n",
    "    read_conn.autocommit = True\n",
    "    read_cursor = read_conn.cursor()\n",
    "\n",
    "    # Reporting database connection\n",
    "    reporting_conn = psycopg2.connect(database=DB_REPORTING_NAME, user=DB_REPORTING_USER, password=DB_REPORTING_PASSWORD, host=DB_REPORTING_HOST, port= '5432')\n",
    "    reporting_conn.autocommit = True\n",
    "    reporting_cursor = reporting_conn.cursor()\n",
    "    \n",
    "    return read_cursor,reporting_cursor"
   ]
  },
  {
   "cell_type": "code",
   "execution_count": null,
   "metadata": {},
   "outputs": [],
   "source": [
    "def get_table_data(db_cursor, table_name, limit='ALL'):\n",
    "    # check user input - allows string or numeric input (may change to string only to simpllify error checking)\n",
    "    if type(limit) == str: \n",
    "        if limit != 'ALL':\n",
    "            try:\n",
    "                int(limit)\n",
    "            except:\n",
    "                print(\"Please enter an integer value for limit.\")\n",
    "                return\n",
    "    elif type(limit) == int:\n",
    "        limit = str(limit)\n",
    "    else:\n",
    "        print(\"Please enter an integer value for limit.\")\n",
    "        return\n",
    "    \n",
    "    query = \"\"\"SELECT * FROM \"\"\" + table_name + \"\"\" LIMIT \"\"\" + limit + \"\"\";\"\"\"\n",
    "    db_cursor.execute(query)\n",
    "    result = db_cursor.fetchall()\n",
    "    colnames = [desc[0] for desc in db_cursor.description]\n",
    "    dataframe = pd.DataFrame(result, columns=colnames)\n",
    "    \n",
    "    return dataframe"
   ]
  },
  {
   "cell_type": "markdown",
   "metadata": {},
   "source": [
    "# Data Utility"
   ]
  },
  {
   "cell_type": "code",
   "execution_count": null,
   "metadata": {},
   "outputs": [],
   "source": [
    "def get_date_str(date, formatted=False):\n",
    "    year = str(date.year)\n",
    "    month = str(date.month)\n",
    "    if len(month)==1:\n",
    "        month = '0'+month\n",
    "    day = str(date.day)\n",
    "    if len(day)==1:\n",
    "        day = '0'+day\n",
    "        \n",
    "    if formatted:\n",
    "        date = year+'/'+month+'/'+day\n",
    "    else:\n",
    "        date = year+month+day\n",
    "    return date"
   ]
  },
  {
   "cell_type": "code",
   "execution_count": null,
   "metadata": {},
   "outputs": [],
   "source": [
    "def get_appt_provider_role(row):\n",
    "    ambiguous_appt_names = ['Initial Visit','Followup Visit','Return Visit']\n",
    "    ambiguous_appt_names_roles = ['CLINICIAN','PSYCHIATRIST']\n",
    "    appt_type_name = row['appointment_type_name']\n",
    "    provider_id = row['provider_id']\n",
    "    \n",
    "    if appt_type_name in appt_provider_role_dict.keys():\n",
    "        appt_role = appt_provider_role_dict[appt_type_name]\n",
    "    elif appt_type_name in ambiguous_appt_names:\n",
    "        appt_role = provider_support_role[(provider_support_role['provider_id']==provider_id) & \n",
    "                                          (provider_support_role['support_role_id'].isin(ambiguous_appt_names_roles))].support_role_id.values[0]\n",
    "    else:\n",
    "        appt_role = 'UNDEFINED'\n",
    "    \n",
    "    \n",
    "    return appt_role"
   ]
  },
  {
   "cell_type": "code",
   "execution_count": null,
   "metadata": {},
   "outputs": [],
   "source": [
    "def get_appt_provider_role_df(data, provider_support_role):    \n",
    "    mult_role = provider_support_role.groupby(['provider_id']).filter(lambda x: len(x)>1)\n",
    "    mult_role_provID = mult_role.provider_id.unique()\n",
    "\n",
    "    appt_single_role = data[~data['provider_id'].isin(mult_role_provID)].copy()\n",
    "    appt_mult_role = data[data['provider_id'].isin(mult_role_provID)].copy()\n",
    "\n",
    "    appt_single_role = appt_single_role.merge(provider_support_role, how='inner', left_on='provider_id', right_on='provider_id')\n",
    "    appt_mult_role['support_role_id'] = appt_mult_role.apply(lambda x: get_appt_provider_role(x), axis=1)\n",
    "\n",
    "    data = pd.concat([appt_single_role,appt_mult_role]).sort_index()\n",
    "\n",
    "    return data"
   ]
  },
  {
   "cell_type": "code",
   "execution_count": 7,
   "metadata": {},
   "outputs": [],
   "source": [
    "def meta_data_init(names,properties):\n",
    "    def get_meta_template(name):\n",
    "        template = {key:properties[key]['default'] for key in properties}\n",
    "        template['name']=name\n",
    "        return template\n",
    "    \n",
    "    meta_data = {name:get_meta_template(name) for name in names}\n",
    "    \n",
    "    return meta_data"
   ]
  },
  {
   "cell_type": "markdown",
   "metadata": {},
   "source": [
    "# Data Extraction and Manipulation"
   ]
  },
  {
   "cell_type": "code",
   "execution_count": null,
   "metadata": {},
   "outputs": [],
   "source": [
    "def get_master_data(table_list, data_dict=dict()):\n",
    "    # Connect to database\n",
    "    read_cursor,reporting_cursor = database_connect()\n",
    "    # List all Cobalt tables\n",
    "    query = \"\"\"SELECT table_name FROM information_schema.tables WHERE table_schema='cobalt'\"\"\"\n",
    "    reporting_cursor.execute(query)\n",
    "    db_tables = [item[0] for item in reporting_cursor.fetchall()]\n",
    "    \n",
    "    # Get master data\n",
    "    for table in table_list:\n",
    "        data = get_table_data(cursor, table)"
   ]
  },
  {
   "cell_type": "code",
   "execution_count": 32,
   "metadata": {},
   "outputs": [],
   "source": [
    "def get_db_meta():\n",
    "    db_meta = {}\n",
    "    \n",
    "    # Account data\n",
    "    get_account_meta(db_meta)\n",
    "    \n",
    "    # Provider data\n",
    "    get_provider_meta(db_meta)\n",
    "    get_provider_support_role_meta(db_meta)\n",
    "    \n",
    "    return db_meta"
   ]
  },
  {
   "cell_type": "code",
   "execution_count": null,
   "metadata": {},
   "outputs": [],
   "source": []
  },
  {
   "cell_type": "code",
   "execution_count": null,
   "metadata": {},
   "outputs": [],
   "source": []
  },
  {
   "cell_type": "code",
   "execution_count": null,
   "metadata": {},
   "outputs": [],
   "source": []
  },
  {
   "cell_type": "code",
   "execution_count": null,
   "metadata": {},
   "outputs": [],
   "source": []
  },
  {
   "cell_type": "markdown",
   "metadata": {},
   "source": [
    "## Accounts"
   ]
  },
  {
   "cell_type": "markdown",
   "metadata": {},
   "source": [
    "### account"
   ]
  },
  {
   "cell_type": "code",
   "execution_count": 28,
   "metadata": {},
   "outputs": [],
   "source": [
    "def get_account_meta(db_meta):\n",
    "    account_meta = copy.deepcopy(entity_meta_template)\n",
    "\n",
    "    # Access\n",
    "    account_meta['name'] = 'account'\n",
    "    account_meta['short_name'] = 'acct'\n",
    "    account_meta['display_label'] = 'Accounts'\n",
    "    account_meta['pkey'] = 'account_id'\n",
    "    account_meta['entity_type'] = 'root'\n",
    "    account_meta['getter_func'] = get_account\n",
    "    # Grouping columns\n",
    "    account_meta['group_cols'].append({'name':'account_type','label':'Account Type'},)\n",
    "    account_meta['group_cols'].append({'name':'account_source_id','label':'Account Source'},)\n",
    "    # Time columns\n",
    "    account_meta['time_cols'].append({'name':'year','label':'Year'})\n",
    "    account_meta['time_cols'].append({'name':'month','label':'Month'})\n",
    "    account_meta['time_cols'].append({'name':'week','label':'Week'}),\n",
    "    account_meta['time_cols'].append({'name':'year_month_week','label':'Date'})\n",
    "    # Indicator columns\n",
    "    # Dependencies\n",
    "    \n",
    "    db_meta['account'] = account_meta\n",
    "    \n",
    "    return"
   ]
  },
  {
   "cell_type": "code",
   "execution_count": 16,
   "metadata": {},
   "outputs": [],
   "source": [
    "def get_account(cursor,data_dict,save_data=False):\n",
    "    \n",
    "    # Get account data\n",
    "    account = get_table_data(reporting_cursor, 'account')\n",
    "\n",
    "    # Adjust columns\n",
    "    account['year'] = account['created'].dt.year\n",
    "    account['month'] = account['created'].dt.month\n",
    "    account['week'] = account['created'].dt.week\n",
    "    account['day'] = account['created'].dt.day\n",
    "    account['year_month'] = account['created'].values.astype('datetime64[M]')\n",
    "    account['year_month_week'] = account['created'].values.astype('datetime64[W]')\n",
    "    account['dayofyear'] = account['created'].apply(lambda x: get_date_str(x))\n",
    "    \n",
    "    account['account_type'] = account['account_source_id'].apply(lambda x: x if x=='ANONYMOUS' else 'VERIFIED')\n",
    "\n",
    "    # Filter for relevant data\n",
    "    account = account[(account['institution_id']=='PENN') & (account['role_id']=='PATIENT')]\n",
    "    account = account[account['phone_number']!='+12157777777'] # added 11/10/2021\n",
    "\n",
    "    # Time series data\n",
    "    acct_monthly_ts_data = pd.DataFrame(account.groupby(['year','month']).count().account_id)\n",
    "    acct_weekly_ts_data = pd.DataFrame(account.groupby(['year_month_week']).count().account_id)\n",
    "    acct_weekly_ts_data.index = pd.MultiIndex.from_arrays([acct_weekly_ts_data.index.year, \n",
    "                                                                acct_weekly_ts_data.index.month, \n",
    "                                                                acct_weekly_ts_data.index.day], \n",
    "                                                                names=['Year','Month','Week'])\n",
    "\n",
    "    # Time series data by account source\n",
    "    acct_src_monthly_ts_data = pd.DataFrame(account.groupby(['year','month','account_source_id']).count().account_id)\n",
    "    acct_src_monthly_ts_data = acct_src_monthly_ts_data.unstack().fillna(0).account_id\n",
    "\n",
    "    acct_src_weekly_ts_data = pd.DataFrame(account.groupby(['year_month_week', 'account_source_id']).count()).account_id\n",
    "    acct_src_weekly_ts_data = acct_src_weekly_ts_data.unstack().fillna(0)\n",
    "    acct_src_weekly_ts_data.index = pd.MultiIndex.from_arrays([acct_src_weekly_ts_data.index.year, \n",
    "                                                          acct_src_weekly_ts_data.index.month, \n",
    "                                                          acct_src_weekly_ts_data.index.day], \n",
    "                                                          names=['Year','Month','Week'])\n",
    "    \n",
    "    # Populate data_dict\n",
    "    data_dict['account'] = account\n",
    "    data_dict['acct_monthly_ts_data'] = acct_monthly_ts_data\n",
    "    data_dict['acct_weekly_ts_data'] = acct_weekly_ts_data\n",
    "    data_dict['acct_src_monthly_ts_data'] = acct_src_monthly_ts_data\n",
    "    data_dict['acct_src_weekly_ts_data'] = acct_src_weekly_ts_data\n",
    "    \n",
    "    # Save master data\n",
    "    if save_data:\n",
    "        account.to_csv(MASTER_DATA_PATH + 'account_master_' + str(datetime.datetime.now().date()).replace('-','') + '.csv')\n",
    "        acct_monthly_ts_data.to_csv(MASTER_DATA_PATH + 'acct_monthly_ts_data_' + str(datetime.datetime.now().date()).replace('-','') + '.csv')\n",
    "        acct_weekly_ts_data.to_csv(MASTER_DATA_PATH + 'acct_weekly_ts_data' + str(datetime.datetime.now().date()).replace('-','') + '.csv')\n",
    "        acct_src_monthly_ts_data.to_csv(MASTER_DATA_PATH + 'acct_src_monthly_ts_data_' + str(datetime.datetime.now().date()).replace('-','') + '.csv')\n",
    "        acct_src_weekly_ts_data.to_csv(MASTER_DATA_PATH + 'acct_src_weekly_ts_data' + str(datetime.datetime.now().date()).replace('-','') + '.csv')\n",
    "\n",
    "    return"
   ]
  },
  {
   "cell_type": "markdown",
   "metadata": {},
   "source": [
    "## Providers"
   ]
  },
  {
   "cell_type": "markdown",
   "metadata": {},
   "source": [
    "### provider"
   ]
  },
  {
   "cell_type": "code",
   "execution_count": 31,
   "metadata": {},
   "outputs": [],
   "source": [
    "def get_provider_meta(db_meta):\n",
    "    provider_meta = copy.deepcopy(entity_meta_template)\n",
    "    \n",
    "    # Access\n",
    "    provider_meta['name'] = 'provider'\n",
    "    provider_meta['short_name'] = 'prov'\n",
    "    provider_meta['display_label'] = 'Providers'\n",
    "    provider_meta['pkey'] = 'provider_id'\n",
    "    provider_meta['entity_type'] = 'root'\n",
    "    provider_meta['getter_func'] = get_provider\n",
    "    # Grouping columns\n",
    "    # Time columns\n",
    "    provider_meta['time_cols'].append({'name':'year','label':'Year'})\n",
    "    provider_meta['time_cols'].append({'name':'month','label':'Month'})\n",
    "    provider_meta['time_cols'].append({'name':'week','label':'Week'}),\n",
    "    provider_meta['time_cols'].append({'name':'year_month_week','label':'Date'})\n",
    "    # Indicator columns\n",
    "    # Dependencies\n",
    "    \n",
    "    db_meta['provider'] = provider_meta\n",
    "    \n",
    "    return"
   ]
  },
  {
   "cell_type": "code",
   "execution_count": 34,
   "metadata": {},
   "outputs": [],
   "source": [
    "def get_provider(cursor,data_dict,save_data=False):\n",
    "    \n",
    "    # Get provider data\n",
    "    provider = get_table_data(reporting_cursor, 'provider')\n",
    "\n",
    "    # Adjust columns\n",
    "    provider['year'] = provider['created'].dt.year\n",
    "    provider['month'] = provider['created'].dt.month\n",
    "    provider['day'] = provider['created'].dt.day\n",
    "    provider['year_month'] = provider['created'].values.astype('datetime64[M]')\n",
    "    provider['year_month_week'] = provider['created'].values.astype('datetime64[W]')\n",
    "    provider['dayofyear'] = provider['created'].apply(lambda x: get_date_str(x))\n",
    "\n",
    "    # Filter for relevant data\n",
    "    provider = provider[provider['institution_id']=='PENN']\n",
    "    provider = provider[provider['system_affinity_id'] != 'PIC']\n",
    "\n",
    "    # Time series data\n",
    "    prov_monthly_ts_data = pd.DataFrame(provider.groupby(['year','month']).count().provider_id)\n",
    "    prov_monthly_ts_data = prov_monthly_ts_data.merge(month_index_df, how='outer', left_index=True, right_index=True) # Get missing index values\n",
    "    prov_monthly_ts_data = pd.DataFrame(prov_monthly_ts_data.fillna(0)['provider_id'])\n",
    "\n",
    "    prov_weekly_ts_data = pd.DataFrame(provider.groupby(['year_month_week']).count().provider_id)\n",
    "    prov_weekly_ts_data.index = pd.MultiIndex.from_arrays([prov_weekly_ts_data.index.year, \n",
    "                                                          prov_weekly_ts_data.index.month, \n",
    "                                                          prov_weekly_ts_data.index.day], \n",
    "                                                          names=['Year','Month','Week'])\n",
    "    prov_weekly_ts_data = prov_weekly_ts_data.merge(week_index_df, how='outer', left_index=True, right_index=True)# Get missing index values\n",
    "    prov_weekly_ts_data = pd.DataFrame(prov_weekly_ts_data.fillna(0)['provider_id'])\n",
    "\n",
    "    \n",
    "    # Populate data_dict\n",
    "    data_dict['provider'] = provider\n",
    "    data_dict['prov_monthly_ts_data'] = prov_monthly_ts_data\n",
    "    data_dict['prov_weekly_ts_data'] = prov_weekly_ts_data\n",
    "    \n",
    "    # Save master data\n",
    "    if save_data:\n",
    "        provider.to_csv(MASTER_DATA_PATH + 'provider_master_' + str(datetime.datetime.now().date()).replace('-','') + '.csv')\n",
    "        prov_monthly_ts_data.to_csv(MASTER_DATA_PATH + 'prov_monthly_ts_data' + str(datetime.datetime.now().date()).replace('-','') + '.csv')\n",
    "        prov_weekly_ts_data.to_csv(MASTER_DATA_PATH + 'prov_weekly_ts_data' + str(datetime.datetime.now().date()).replace('-','') + '.csv')\n",
    "    \n",
    "    return"
   ]
  },
  {
   "cell_type": "markdown",
   "metadata": {},
   "source": [
    "### provider_support_role"
   ]
  },
  {
   "cell_type": "code",
   "execution_count": null,
   "metadata": {},
   "outputs": [],
   "source": [
    "def get_provider_support_role_meta(db_meta):\n",
    "    provider_support_role_meta = copy.deepcopy(entity_meta_template)\n",
    "    \n",
    "    # Access\n",
    "    provider_support_role_meta['name'] = 'provider_support_role'\n",
    "    provider_support_role_meta['short_name'] = 'prov_role'\n",
    "    provider_support_role_meta['display_label'] = 'Provider Support Role'\n",
    "    provider_support_role_meta['pkey'] = ('provider_id','support_role_id')\n",
    "    provider_support_role_meta['entity_type'] = 'root'\n",
    "    provider_support_role_meta['getter_func'] = get_provider_support_role\n",
    "    # Grouping columns\n",
    "    # Time columns\n",
    "    # Indicator columns\n",
    "    # Dependencies\n",
    "    provider_support_role_meta['dependencies'].append('provider')\n",
    "    \n",
    "    db_meta['provider_support_role'] = provider_support_role_meta\n",
    "    \n",
    "    return"
   ]
  },
  {
   "cell_type": "code",
   "execution_count": 12,
   "metadata": {},
   "outputs": [],
   "source": [
    "def get_provider_support_role(cursor,data_dict,save_data=False):\n",
    "    # Get provider role data\n",
    "    provider_support_role = get_table_data(reporting_cursor, 'provider_support_role')\n",
    "\n",
    "    # Filter for relevant data\n",
    "    provider_support_role = provider_support_role[provider_support_role['provider_id'].isin(provider['provider_id'])]\n",
    "    \n",
    "    # Populate data_dict\n",
    "    data_dict['provider_support_role'] = provider_support_role\n",
    "    \n",
    "    # Save master data\n",
    "    if save_data:\n",
    "        provider_support_role.to_csv(MASTER_DATA_PATH + 'provider_support_role_master_' + str(datetime.datetime.now().date()).replace('-','') + '.csv')\n",
    "    \n",
    "    return"
   ]
  },
  {
   "cell_type": "markdown",
   "metadata": {},
   "source": [
    "### provider_appointment_type"
   ]
  },
  {
   "cell_type": "code",
   "execution_count": null,
   "metadata": {},
   "outputs": [],
   "source": [
    "def get_provider_appointment_type_meta(db_meta):\n",
    "    provider_appointment_type_meta= copy.deepcopy(entity_meta_template)\n",
    "    \n",
    "    # Access\n",
    "    provider_appointment_type_meta['name'] = 'provider_appointment_type'\n",
    "    provider_appointment_type_meta['short_name'] = 'prov_appt_type'\n",
    "    provider_appointment_type_meta['display_label'] = 'Provider Appointment Type'\n",
    "    provider_appointment_type_meta['pkey'] = 'provider_appointment_type_id'\n",
    "    provider_appointment_type_meta['entity_type'] = 'root'\n",
    "    provider_appointment_type_meta['getter_func'] = get_provider_appointment_type\n",
    "    # Grouping columns\n",
    "    # Time columns\n",
    "    # Indicator columns\n",
    "    # Dependencies\n",
    "    provider_appointment_type_meta['dependencies'].append('provider')\n",
    "    \n",
    "    db_meta['provider_appointment_type'] = provider_appointment_type_meta\n",
    "    \n",
    "    return"
   ]
  },
  {
   "cell_type": "code",
   "execution_count": 13,
   "metadata": {},
   "outputs": [],
   "source": [
    "def get_provider_appointment_type(cursor,data_dict,save_data=False):\n",
    "    # Get provider appointment type data\n",
    "    provider_appointment_type = get_table_data(reporting_cursor, 'provider_appointment_type')\n",
    "\n",
    "    # Filter for relevant data\n",
    "    provider_appointment_type = provider_appointment_type[provider_appointment_type['provider_id'].isin(provider['provider_id'])]\n",
    "        \n",
    "    # Populate data_dict\n",
    "    data_dict['provider_appointment_type'] = provider_appointment_type\n",
    "    \n",
    "    # Save master data\n",
    "    if save_data:\n",
    "        provider_appointment_type.to_csv(MASTER_DATA_PATH + 'provider_appointment_type_master' + str(datetime.datetime.now().date()).replace('-','') + '.csv')\n",
    "    \n",
    "    return"
   ]
  },
  {
   "cell_type": "markdown",
   "metadata": {},
   "source": [
    "## Appointments"
   ]
  },
  {
   "cell_type": "markdown",
   "metadata": {},
   "source": [
    "### appointment_type"
   ]
  },
  {
   "cell_type": "code",
   "execution_count": null,
   "metadata": {},
   "outputs": [],
   "source": [
    "def get_appointment_type_meta(db_meta):\n",
    "    appointment_type_meta = copy.deepcopy(entity_meta_template)\n",
    "    \n",
    "    # Access\n",
    "    appointment_type_meta['name'] = 'appointment_type'\n",
    "    appointment_type_meta['short_name'] = 'appt_type'\n",
    "    appointment_type_meta['display_label'] = 'Appointment Type'\n",
    "    appointment_type_meta['pkey'] = 'appointment_type_id'\n",
    "    appointment_type_meta['entity_type'] = 'root'\n",
    "    appointment_type_meta['getter_func'] = get_appointment_type\n",
    "    # Grouping columns\n",
    "    # Time columns\n",
    "    # Indicator columns\n",
    "    # Dependencies\n",
    "    \n",
    "    db_meta['appointment_type'] = appointment_type_meta\n",
    "    \n",
    "    return"
   ]
  },
  {
   "cell_type": "code",
   "execution_count": 15,
   "metadata": {},
   "outputs": [],
   "source": [
    "def get_appointment_type(cursor,data_dict,save_data=False):\n",
    "        \n",
    "    # Get appointment type data\n",
    "    appointment_type = get_table_data(reporting_cursor, 'appointment_type')\n",
    "        \n",
    "    # Populate data_dict\n",
    "    data_dict['appointment_type'] = appointment_type\n",
    "    \n",
    "    # Save master data\n",
    "    if save_data:\n",
    "        appointment_type.to_csv(MASTER_DATA_PATH + 'appointment_type_master' + str(datetime.datetime.now().date()).replace('-','') + '.csv')\n",
    "    \n",
    "    return"
   ]
  },
  {
   "cell_type": "markdown",
   "metadata": {},
   "source": [
    "### appointment"
   ]
  },
  {
   "cell_type": "code",
   "execution_count": null,
   "metadata": {},
   "outputs": [],
   "source": [
    "def get_appointment_meta(db_meta):\n",
    "    appointment_meta = copy.deepcopy(entity_meta_template)\n",
    "    \n",
    "    # Access\n",
    "    appointment_meta['name'] = 'appointment'\n",
    "    appointment_meta['short_name'] = ''\n",
    "    appointment_meta['display_label'] = ''\n",
    "    appointment_meta['pkey'] = ''\n",
    "    appointment_meta['entity_type'] = 'root'\n",
    "    appointment_meta['getter_func'] = get_appointment\n",
    "    # Grouping columns\n",
    "    # Time columns\n",
    "    # Indicator columns\n",
    "    # Dependencies\n",
    "    \n",
    "    db_meta['appointment'] = appointment_meta\n",
    "    \n",
    "    return"
   ]
  },
  {
   "cell_type": "code",
   "execution_count": 16,
   "metadata": {},
   "outputs": [],
   "source": [
    "def get_appointment(cursor,data_dict,save_data=False):\n",
    "        \n",
    "    \n",
    "        \n",
    "    # Populate data_dict\n",
    "    data_dict['appointment'] = appointment\n",
    "    \n",
    "    # Save master data\n",
    "    if save_data:\n",
    "        appointment.to_csv(MASTER_DATA_PATH + 'appointment_master' + str(datetime.datetime.now().date()).replace('-','') + '.csv')\n",
    "    \n",
    "    \n",
    "    return"
   ]
  },
  {
   "cell_type": "markdown",
   "metadata": {},
   "source": [
    "### provider_availability"
   ]
  },
  {
   "cell_type": "code",
   "execution_count": null,
   "metadata": {},
   "outputs": [],
   "source": [
    "def get_provider_availability_meta(db_meta):\n",
    "    provider_availability_meta = copy.deepcopy(entity_meta_template)\n",
    "    \n",
    "    # Access\n",
    "    provider_availability_meta['name'] = 'provider_availability'\n",
    "    provider_availability_meta['short_name'] = ''\n",
    "    provider_availability_meta['display_label'] = ''\n",
    "    provider_availability_meta['pkey'] = ''\n",
    "    provider_availability_meta['entity_type'] = 'root'\n",
    "    provider_availability_meta['getter_func'] = get_provider_availability\n",
    "    # Grouping columns\n",
    "    # Time columns\n",
    "    # Indicator columns\n",
    "    # Dependencies\n",
    "    \n",
    "    db_meta['provider_availability'] = provider_availability_meta\n",
    "    \n",
    "    return"
   ]
  },
  {
   "cell_type": "code",
   "execution_count": 17,
   "metadata": {},
   "outputs": [],
   "source": [
    "def get_provider_availability(cursor,data_dict,save_data=False):\n",
    "        \n",
    "    \n",
    "        \n",
    "    # Populate data_dict\n",
    "    data_dict['provider_availability'] = provider_availability\n",
    "    \n",
    "    # Save master data\n",
    "    if save_data:\n",
    "        provider_availability.to_csv(MASTER_DATA_PATH + 'provider_availability_master' + str(datetime.datetime.now().date()).replace('-','') + '.csv')\n",
    "    \n",
    "    \n",
    "    return"
   ]
  },
  {
   "cell_type": "markdown",
   "metadata": {},
   "source": [
    "## Group Sessions"
   ]
  },
  {
   "cell_type": "markdown",
   "metadata": {},
   "source": [
    "### group_session"
   ]
  },
  {
   "cell_type": "code",
   "execution_count": null,
   "metadata": {},
   "outputs": [],
   "source": [
    "def get_group_session_meta(db_meta):\n",
    "    group_session_meta = copy.deepcopy(entity_meta_template)\n",
    "    \n",
    "    # Access\n",
    "    group_session_meta['name'] = 'group_session'\n",
    "    group_session_meta['short_name'] = ''\n",
    "    group_session_meta['display_label'] = ''\n",
    "    group_session_meta['pkey'] = ''\n",
    "    group_session_meta['entity_type'] = 'root'\n",
    "    group_session_meta['getter_func'] = get_group_session\n",
    "    # Grouping columns\n",
    "    # Time columns\n",
    "    # Indicator columns\n",
    "    # Dependencies\n",
    "    \n",
    "    db_meta['group_session'] = group_session_meta\n",
    "    \n",
    "    return"
   ]
  },
  {
   "cell_type": "code",
   "execution_count": null,
   "metadata": {},
   "outputs": [],
   "source": [
    "def get_group_session(cursor,data_dict,save_data=False):\n",
    "        \n",
    "    \n",
    "        \n",
    "    # Populate data_dict\n",
    "    data_dict['group_session'] = group_session\n",
    "    \n",
    "    # Save master data\n",
    "    if save_data:\n",
    "        group_session.to_csv(MASTER_DATA_PATH + 'group_session_master' + str(datetime.datetime.now().date()).replace('-','') + '.csv')\n",
    "    \n",
    "    \n",
    "    return"
   ]
  },
  {
   "cell_type": "markdown",
   "metadata": {},
   "source": [
    "### group_session_request"
   ]
  },
  {
   "cell_type": "code",
   "execution_count": null,
   "metadata": {},
   "outputs": [],
   "source": [
    "def get_group_session_request_meta(db_meta):\n",
    "    group_session_request_meta = copy.deepcopy(entity_meta_template)\n",
    "    \n",
    "    # Access\n",
    "    group_session_request_meta['name'] = 'group_session_request'\n",
    "    group_session_request_meta['short_name'] = ''\n",
    "    group_session_request_meta['display_label'] = ''\n",
    "    group_session_request_meta['pkey'] = ''\n",
    "    group_session_request_meta['entity_type'] = 'root'\n",
    "    group_session_request_meta['getter_func'] = get_group_session_request\n",
    "    # Grouping columns\n",
    "    # Time columns\n",
    "    # Indicator columns\n",
    "    # Dependencies\n",
    "    \n",
    "    db_meta['group_session_request'] = group_session_request_meta\n",
    "    \n",
    "    return"
   ]
  },
  {
   "cell_type": "code",
   "execution_count": null,
   "metadata": {},
   "outputs": [],
   "source": [
    "def get_group_session_request(cursor,data_dict,save_data=False):\n",
    "        \n",
    "    \n",
    "        \n",
    "    # Populate data_dict\n",
    "    data_dict['group_session_request'] = group_session_request\n",
    "    \n",
    "    # Save master data\n",
    "    if save_data:\n",
    "        group_session_request.to_csv(MASTER_DATA_PATH + 'group_session_request_master' + str(datetime.datetime.now().date()).replace('-','') + '.csv')\n",
    "    \n",
    "    \n",
    "    return"
   ]
  },
  {
   "cell_type": "markdown",
   "metadata": {},
   "source": [
    "### group_session_reservation"
   ]
  },
  {
   "cell_type": "code",
   "execution_count": null,
   "metadata": {},
   "outputs": [],
   "source": [
    "def get_group_session_reservation_meta(db_meta):\n",
    "    group_session_reservation_meta = copy.deepcopy(entity_meta_template)\n",
    "    \n",
    "    # Access\n",
    "    group_session_reservation_meta['name'] = 'group_session_reservation'\n",
    "    group_session_reservation_meta['short_name'] = ''\n",
    "    group_session_reservation_meta['display_label'] = ''\n",
    "    group_session_reservation_meta['pkey'] = ''\n",
    "    group_session_reservation_meta['entity_type'] = 'root'\n",
    "    group_session_reservation_meta['getter_func'] = get_group_session_reservation\n",
    "    # Grouping columns\n",
    "    # Time columns\n",
    "    # Indicator columns\n",
    "    # Dependencies\n",
    "    \n",
    "    db_meta['group_session_reservation'] = group_session_reservation_meta\n",
    "    \n",
    "    return"
   ]
  },
  {
   "cell_type": "code",
   "execution_count": null,
   "metadata": {},
   "outputs": [],
   "source": [
    "def get_group_session_reservation(cursor,data_dict,save_data=False):\n",
    "        \n",
    "    \n",
    "        \n",
    "    # Populate data_dict\n",
    "    data_dict['group_session_reservation'] = group_session_reservation\n",
    "    \n",
    "    # Save master data\n",
    "    if save_data:\n",
    "        group_session_reservation.to_csv(MASTER_DATA_PATH + 'group_session_reservation_master' + str(datetime.datetime.now().date()).replace('-','') + '.csv')\n",
    "    \n",
    "    \n",
    "    return"
   ]
  },
  {
   "cell_type": "markdown",
   "metadata": {},
   "source": [
    "## Assessments"
   ]
  },
  {
   "cell_type": "markdown",
   "metadata": {},
   "source": [
    "### assessment"
   ]
  },
  {
   "cell_type": "code",
   "execution_count": null,
   "metadata": {},
   "outputs": [],
   "source": [
    "def get_assessment_meta(db_meta):\n",
    "    assessment_meta = copy.deepcopy(entity_meta_template)\n",
    "    \n",
    "    # Access\n",
    "    assessment_meta['name'] = 'assessment'\n",
    "    assessment_meta['short_name'] = ''\n",
    "    assessment_meta['display_label'] = ''\n",
    "    assessment_meta['pkey'] = ''\n",
    "    assessment_meta['entity_type'] = 'root'\n",
    "    assessment_meta['getter_func'] = get_assessment\n",
    "    # Grouping columns\n",
    "    # Time columns\n",
    "    # Indicator columns\n",
    "    # Dependencies\n",
    "    \n",
    "    db_meta['assessment'] = assessment_meta\n",
    "    \n",
    "    return"
   ]
  },
  {
   "cell_type": "code",
   "execution_count": 19,
   "metadata": {},
   "outputs": [],
   "source": [
    "def get_assessment(cursor,data_dict,save_data=False):\n",
    "        \n",
    "    \n",
    "        \n",
    "    # Populate data_dict\n",
    "    data_dict['assessment'] = assessment\n",
    "    \n",
    "    # Save master data\n",
    "    if save_data:\n",
    "        assessment.to_csv(MASTER_DATA_PATH + 'assessment_master' + str(datetime.datetime.now().date()).replace('-','') + '.csv')\n",
    "    \n",
    "    \n",
    "    return"
   ]
  },
  {
   "cell_type": "markdown",
   "metadata": {},
   "source": [
    "### assessment_type"
   ]
  },
  {
   "cell_type": "code",
   "execution_count": null,
   "metadata": {},
   "outputs": [],
   "source": [
    "def get_assessment_type_meta(db_meta):\n",
    "    assessment_type_meta = copy.deepcopy(entity_meta_template)\n",
    "    \n",
    "    # Access\n",
    "    assessment_type_meta['name'] = 'assessment_type'\n",
    "    assessment_type_meta['short_name'] = ''\n",
    "    assessment_type_meta['display_label'] = ''\n",
    "    assessment_type_meta['pkey'] = ''\n",
    "    assessment_type_meta['entity_type'] = 'root'\n",
    "    assessment_type_meta['getter_func'] = get_assessment_type\n",
    "    # Grouping columns\n",
    "    # Time columns\n",
    "    # Indicator columns\n",
    "    # Dependencies\n",
    "    \n",
    "    db_meta['assessment_type'] = assessment_type_meta\n",
    "    \n",
    "    return"
   ]
  },
  {
   "cell_type": "code",
   "execution_count": 20,
   "metadata": {},
   "outputs": [],
   "source": [
    "def get_assessment_type(cursor,data_dict,save_data=False):\n",
    "        \n",
    "    \n",
    "        \n",
    "    # Populate data_dict\n",
    "    data_dict['assessment_type'] = assessment_type\n",
    "    \n",
    "    # Save master data\n",
    "    if save_data:\n",
    "        assessment_type.to_csv(MASTER_DATA_PATH + 'assessment_type_master' + str(datetime.datetime.now().date()).replace('-','') + '.csv')\n",
    "    \n",
    "    \n",
    "    return"
   ]
  },
  {
   "cell_type": "markdown",
   "metadata": {},
   "source": [
    "### answer"
   ]
  },
  {
   "cell_type": "code",
   "execution_count": null,
   "metadata": {},
   "outputs": [],
   "source": [
    "def get_answer_meta(db_meta):\n",
    "    answer_meta = copy.deepcopy(entity_meta_template)\n",
    "    \n",
    "    # Access\n",
    "    answer_meta['name'] = 'answer'\n",
    "    answer_meta['short_name'] = ''\n",
    "    answer_meta['display_label'] = ''\n",
    "    answer_meta['pkey'] = ''\n",
    "    answer_meta['entity_type'] = 'root'\n",
    "    answer_meta['getter_func'] = get_answer\n",
    "    # Grouping columns\n",
    "    # Time columns\n",
    "    # Indicator columns\n",
    "    # Dependencies\n",
    "    \n",
    "    db_meta['answer'] = answer_meta\n",
    "    \n",
    "    return"
   ]
  },
  {
   "cell_type": "code",
   "execution_count": 21,
   "metadata": {},
   "outputs": [],
   "source": [
    "def get_answer(cursor,data_dict,save_data=False):\n",
    "        \n",
    "    \n",
    "        \n",
    "    # Populate data_dict\n",
    "    data_dict['answer'] = answer\n",
    "    \n",
    "    # Save master data\n",
    "    if save_data:\n",
    "        answer.to_csv(MASTER_DATA_PATH + 'answer_master' + str(datetime.datetime.now().date()).replace('-','') + '.csv')\n",
    "    \n",
    "    \n",
    "    return"
   ]
  },
  {
   "cell_type": "markdown",
   "metadata": {},
   "source": [
    "### answer_category"
   ]
  },
  {
   "cell_type": "code",
   "execution_count": null,
   "metadata": {},
   "outputs": [],
   "source": [
    "def get_answer_category_meta(db_meta):\n",
    "    answer_category_meta = copy.deepcopy(entity_meta_template)\n",
    "    \n",
    "    # Access\n",
    "    answer_category_meta['name'] = 'answer_category'\n",
    "    answer_category_meta['short_name'] = ''\n",
    "    answer_category_meta['display_label'] = ''\n",
    "    answer_category_meta['pkey'] = ''\n",
    "    answer_category_meta['entity_type'] = 'root'\n",
    "    answer_category_meta['getter_func'] = get_answer_category\n",
    "    # Grouping columns\n",
    "    # Time columns\n",
    "    # Indicator columns\n",
    "    # Dependencies\n",
    "    \n",
    "    db_meta['answer_category'] = answer_category_meta\n",
    "    \n",
    "    return"
   ]
  },
  {
   "cell_type": "code",
   "execution_count": 22,
   "metadata": {},
   "outputs": [],
   "source": [
    "def get_answer_category(cursor,data_dict,save_data=False):\n",
    "        \n",
    "    \n",
    "        \n",
    "    # Populate data_dict\n",
    "    data_dict['answer_category'] = answer_category\n",
    "    \n",
    "    # Save master data\n",
    "    if save_data:\n",
    "        answer_category.to_csv(MASTER_DATA_PATH + 'answer_category_master' + str(datetime.datetime.now().date()).replace('-','') + '.csv')\n",
    "    \n",
    "    \n",
    "    return"
   ]
  },
  {
   "cell_type": "markdown",
   "metadata": {},
   "source": [
    "### category"
   ]
  },
  {
   "cell_type": "code",
   "execution_count": null,
   "metadata": {},
   "outputs": [],
   "source": [
    "def get_category_meta(db_meta):\n",
    "    category_meta = copy.deepcopy(entity_meta_template)\n",
    "    \n",
    "    # Access\n",
    "    category_meta['name'] = 'category'\n",
    "    category_meta['short_name'] = ''\n",
    "    category_meta['display_label'] = ''\n",
    "    category_meta['pkey'] = ''\n",
    "    category_meta['entity_type'] = 'root'\n",
    "    category_meta['getter_func'] = get_category\n",
    "    # Grouping columns\n",
    "    # Time columns\n",
    "    # Indicator columns\n",
    "    # Dependencies\n",
    "    \n",
    "    db_meta['category'] = category_meta\n",
    "    \n",
    "    return"
   ]
  },
  {
   "cell_type": "code",
   "execution_count": 23,
   "metadata": {},
   "outputs": [],
   "source": [
    "def get_category(cursor,data_dict,save_data=False):\n",
    "        \n",
    "    \n",
    "        \n",
    "    # Populate data_dict\n",
    "    data_dict['category'] = category\n",
    "    \n",
    "    # Save master data\n",
    "    if save_data:\n",
    "        category.to_csv(MASTER_DATA_PATH + 'category_master' + str(datetime.datetime.now().date()).replace('-','') + '.csv')\n",
    "    \n",
    "    \n",
    "    return"
   ]
  },
  {
   "cell_type": "markdown",
   "metadata": {},
   "source": [
    "### question"
   ]
  },
  {
   "cell_type": "code",
   "execution_count": null,
   "metadata": {},
   "outputs": [],
   "source": [
    "def get_question_meta(db_meta):\n",
    "    question_meta = copy.deepcopy(entity_meta_template)\n",
    "    \n",
    "    # Access\n",
    "    question_meta['name'] = 'question'\n",
    "    question_meta['short_name'] = ''\n",
    "    question_meta['display_label'] = ''\n",
    "    question_meta['pkey'] = ''\n",
    "    question_meta['entity_type'] = 'root'\n",
    "    question_meta['getter_func'] = get_question\n",
    "    # Grouping columns\n",
    "    # Time columns\n",
    "    # Indicator columns\n",
    "    # Dependencies\n",
    "    \n",
    "    db_meta['question'] = question_meta\n",
    "    \n",
    "    return"
   ]
  },
  {
   "cell_type": "code",
   "execution_count": 24,
   "metadata": {},
   "outputs": [],
   "source": [
    "def get_question(cursor,data_dict,save_data=False):\n",
    "        \n",
    "    \n",
    "        \n",
    "    # Populate data_dict\n",
    "    data_dict['question'] = question\n",
    "    \n",
    "    # Save master data\n",
    "    if save_data:\n",
    "        question.to_csv(MASTER_DATA_PATH + 'question_master' + str(datetime.datetime.now().date()).replace('-','') + '.csv')\n",
    "    \n",
    "    \n",
    "    return"
   ]
  },
  {
   "cell_type": "markdown",
   "metadata": {},
   "source": [
    "### question_type"
   ]
  },
  {
   "cell_type": "code",
   "execution_count": null,
   "metadata": {},
   "outputs": [],
   "source": [
    "def get_question_type_meta(db_meta):\n",
    "    question_type_meta = copy.deepcopy(entity_meta_template)\n",
    "    \n",
    "    # Access\n",
    "    question_type_meta['name'] = 'question_type'\n",
    "    question_type_meta['short_name'] = ''\n",
    "    question_type_meta['display_label'] = ''\n",
    "    question_type_meta['pkey'] = ''\n",
    "    question_type_meta['entity_type'] = 'root'\n",
    "    question_type_meta['getter_func'] = get_question_type\n",
    "    # Grouping columns\n",
    "    # Time columns\n",
    "    # Indicator columns\n",
    "    # Dependencies\n",
    "    \n",
    "    db_meta['question_type'] = question_type_meta\n",
    "    \n",
    "    return"
   ]
  },
  {
   "cell_type": "code",
   "execution_count": 25,
   "metadata": {},
   "outputs": [],
   "source": [
    "def get_question_type(cursor,data_dict,save_data=False):\n",
    "        \n",
    "    \n",
    "        \n",
    "    # Populate data_dict\n",
    "    data_dict['question_type'] = question_type\n",
    "    \n",
    "    # Save master data\n",
    "    if save_data:\n",
    "        question_type.to_csv(MASTER_DATA_PATH + 'question_type_master' + str(datetime.datetime.now().date()).replace('-','') + '.csv')\n",
    "    \n",
    "    \n",
    "    return"
   ]
  },
  {
   "cell_type": "markdown",
   "metadata": {},
   "source": [
    "## Activity and Content"
   ]
  },
  {
   "cell_type": "markdown",
   "metadata": {},
   "source": [
    "### content"
   ]
  },
  {
   "cell_type": "code",
   "execution_count": null,
   "metadata": {},
   "outputs": [],
   "source": [
    "def get_content_meta(db_meta):\n",
    "    content_meta = copy.deepcopy(entity_meta_template)\n",
    "    \n",
    "    # Access\n",
    "    content_meta['name'] = 'content'\n",
    "    content_meta['short_name'] = ''\n",
    "    content_meta['display_label'] = ''\n",
    "    content_meta['pkey'] = ''\n",
    "    content_meta['entity_type'] = 'root'\n",
    "    content_meta['getter_func'] = get_content\n",
    "    # Grouping columns\n",
    "    # Time columns\n",
    "    # Indicator columns\n",
    "    # Dependencies\n",
    "    \n",
    "    db_meta['content'] = content_meta\n",
    "    \n",
    "    return"
   ]
  },
  {
   "cell_type": "code",
   "execution_count": 27,
   "metadata": {},
   "outputs": [],
   "source": [
    "def get_content(cursor,data_dict,save_data=False):\n",
    "        \n",
    "    \n",
    "        \n",
    "    # Populate data_dict\n",
    "    data_dict['content'] = content\n",
    "    \n",
    "    # Save master data\n",
    "    if save_data:\n",
    "        content.to_csv(MASTER_DATA_PATH + 'content_master' + str(datetime.datetime.now().date()).replace('-','') + '.csv')\n",
    "    \n",
    "    \n",
    "    return"
   ]
  },
  {
   "cell_type": "markdown",
   "metadata": {},
   "source": [
    "### activity_tracking"
   ]
  },
  {
   "cell_type": "code",
   "execution_count": null,
   "metadata": {},
   "outputs": [],
   "source": [
    "def get_activity_tracking_meta(db_meta):\n",
    "    activity_tracking_meta = copy.deepcopy(entity_meta_template)\n",
    "    \n",
    "    # Access\n",
    "    activity_tracking_meta['name'] = 'activity_tracking'\n",
    "    activity_tracking_meta['short_name'] = ''\n",
    "    activity_tracking_meta['display_label'] = ''\n",
    "    activity_tracking_meta['pkey'] = ''\n",
    "    activity_tracking_meta['entity_type'] = 'root'\n",
    "    activity_tracking_meta['getter_func'] = get_activity_tracking\n",
    "    # Grouping columns\n",
    "    # Time columns\n",
    "    # Indicator columns\n",
    "    # Dependencies\n",
    "    \n",
    "    db_meta['activity_tracking'] = activity_tracking_meta\n",
    "    \n",
    "    return"
   ]
  },
  {
   "cell_type": "code",
   "execution_count": 28,
   "metadata": {},
   "outputs": [],
   "source": [
    "def get_activity_tracking(cursor,data_dict,save_data=False):\n",
    "        \n",
    "    \n",
    "        \n",
    "    # Populate data_dict\n",
    "    data_dict['activity_tracking'] = activity_tracking\n",
    "    \n",
    "    # Save master data\n",
    "    if save_data:\n",
    "        activity_tracking.to_csv(MASTER_DATA_PATH + 'activity_tracking_master' + str(datetime.datetime.now().date()).replace('-','') + '.csv')\n",
    "    \n",
    "    \n",
    "    return"
   ]
  },
  {
   "cell_type": "markdown",
   "metadata": {},
   "source": [
    "### content_activity"
   ]
  },
  {
   "cell_type": "code",
   "execution_count": null,
   "metadata": {},
   "outputs": [],
   "source": [
    "def get_content_activity_meta(db_meta):\n",
    "    content_activity_meta = copy.deepcopy(entity_meta_template)\n",
    "    \n",
    "    # Access\n",
    "    content_activity_meta['name'] = 'content_activity'\n",
    "    content_activity_meta['short_name'] = ''\n",
    "    content_activity_meta['display_label'] = ''\n",
    "    content_activity_meta['pkey'] = ''\n",
    "    content_activity_meta['entity_type'] = 'derived'\n",
    "    content_activity_meta['getter_func'] = get_content_activity\n",
    "    # Grouping columns\n",
    "    # Time columns\n",
    "    # Indicator columns\n",
    "    # Dependencies\n",
    "    \n",
    "    db_meta['content_activity'] = content_activity_meta\n",
    "    \n",
    "    return"
   ]
  },
  {
   "cell_type": "code",
   "execution_count": null,
   "metadata": {},
   "outputs": [],
   "source": [
    "def get_content_activity(cursor,data_dict,save_data=False):\n",
    "        \n",
    "    \n",
    "        \n",
    "    # Populate data_dict\n",
    "    data_dict['content_activity'] = content_activity\n",
    "    \n",
    "    # Save master data\n",
    "    if save_data:\n",
    "        content_activity.to_csv(MASTER_DATA_PATH + 'content_activity_master' + str(datetime.datetime.now().date()).replace('-','') + '.csv')\n",
    "    \n",
    "    \n",
    "    return"
   ]
  },
  {
   "cell_type": "markdown",
   "metadata": {},
   "source": [
    "### popular_content"
   ]
  },
  {
   "cell_type": "code",
   "execution_count": null,
   "metadata": {},
   "outputs": [],
   "source": [
    "def get_popular_content_meta(db_meta):\n",
    "    popular_content_meta = copy.deepcopy(entity_meta_template)\n",
    "    \n",
    "    # Access\n",
    "    popular_content_meta['name'] = 'popular_content'\n",
    "    popular_content_meta['short_name'] = ''\n",
    "    popular_content_meta['display_label'] = ''\n",
    "    popular_content_meta['pkey'] = ''\n",
    "    popular_content_meta['entity_type'] = 'derived'\n",
    "    popular_content_meta['getter_func'] = get_popular_content\n",
    "    # Grouping columns\n",
    "    # Time columns\n",
    "    # Indicator columns\n",
    "    # Dependencies\n",
    "    \n",
    "    db_meta['popular_content'] = popular_content_meta\n",
    "    \n",
    "    return"
   ]
  },
  {
   "cell_type": "code",
   "execution_count": null,
   "metadata": {},
   "outputs": [],
   "source": [
    "def get_popular_content(cursor,data_dict,save_data=False);\n",
    "    \n",
    "    \n",
    "        \n",
    "    # Populate data_dict\n",
    "    data_dict['popular_content'] = popular_content\n",
    "    \n",
    "    # Save master data\n",
    "    if save_data:\n",
    "        popular_content.to_csv(MASTER_DATA_PATH + 'popular_content_master' + str(datetime.datetime.now().date()).replace('-','') + '.csv')\n",
    "    \n",
    "    \n",
    "    return"
   ]
  },
  {
   "cell_type": "markdown",
   "metadata": {},
   "source": [
    "## Account Sessions"
   ]
  },
  {
   "cell_type": "markdown",
   "metadata": {},
   "source": [
    "### account_session"
   ]
  },
  {
   "cell_type": "code",
   "execution_count": null,
   "metadata": {},
   "outputs": [],
   "source": [
    "def get_account_session_meta(db_meta):\n",
    "    account_session_meta = copy.deepcopy(entity_meta_template)\n",
    "    \n",
    "    # Access\n",
    "    account_session_meta['name'] = 'account_session'\n",
    "    account_session_meta['short_name'] = ''\n",
    "    account_session_meta['display_label'] = ''\n",
    "    account_session_meta['pkey'] = ''\n",
    "    account_session_meta['entity_type'] = 'root'\n",
    "    account_session_meta['getter_func'] = get_account_session\n",
    "    # Grouping columns\n",
    "    # Time columns\n",
    "    # Indicator columns\n",
    "    # Dependencies\n",
    "    \n",
    "    db_meta['account_session'] = account_session_meta\n",
    "    \n",
    "    return"
   ]
  },
  {
   "cell_type": "code",
   "execution_count": 30,
   "metadata": {},
   "outputs": [],
   "source": [
    "def get_account_session(cursor,data_dict,save_data=False):\n",
    "        \n",
    "    \n",
    "        \n",
    "    # Populate data_dict\n",
    "    data_dict['account_session'] = account_session\n",
    "    \n",
    "    # Save master data\n",
    "    if save_data:\n",
    "        account_session.to_csv(MASTER_DATA_PATH + 'account_session_master' + str(datetime.datetime.now().date()).replace('-','') + '.csv')\n",
    "    \n",
    "    \n",
    "    return"
   ]
  },
  {
   "cell_type": "markdown",
   "metadata": {},
   "source": [
    "### account_session_answer"
   ]
  },
  {
   "cell_type": "code",
   "execution_count": null,
   "metadata": {},
   "outputs": [],
   "source": [
    "def get_account_session_answer_meta(db_meta):\n",
    "    account_session_answer_meta = copy.deepcopy(entity_meta_template)\n",
    "    \n",
    "    # Access\n",
    "    account_session_answer_meta['name'] = 'account_session_answer'\n",
    "    account_session_answer_meta['short_name'] = ''\n",
    "    account_session_answer_meta['display_label'] = ''\n",
    "    account_session_answer_meta['pkey'] = ''\n",
    "    account_session_answer_meta['entity_type'] = 'root'\n",
    "    account_session_answer_meta['getter_func'] = get_account_session_answer\n",
    "    # Grouping columns\n",
    "    # Time columns\n",
    "    # Indicator columns\n",
    "    # Dependencies\n",
    "    \n",
    "    db_meta['account_session_answer'] = account_session_answer_meta\n",
    "    \n",
    "    return"
   ]
  },
  {
   "cell_type": "code",
   "execution_count": 31,
   "metadata": {},
   "outputs": [],
   "source": [
    "def get_account_session_answer(cursor,data_dict,save_data=False):\n",
    "        \n",
    "    \n",
    "        \n",
    "    # Populate data_dict\n",
    "    data_dict['account_session_answer'] = account_session_answer\n",
    "    \n",
    "    # Save master data\n",
    "    if save_data:\n",
    "        account_session_answer.to_csv(MASTER_DATA_PATH + 'account_session_answer_master' + str(datetime.datetime.now().date()).replace('-','') + '.csv')\n",
    "    \n",
    "    \n",
    "    return"
   ]
  },
  {
   "cell_type": "markdown",
   "metadata": {},
   "source": [
    "## Screenings and Triage"
   ]
  },
  {
   "cell_type": "code",
   "execution_count": null,
   "metadata": {},
   "outputs": [],
   "source": []
  },
  {
   "cell_type": "code",
   "execution_count": null,
   "metadata": {},
   "outputs": [],
   "source": []
  },
  {
   "cell_type": "markdown",
   "metadata": {},
   "source": [
    "## Visualization"
   ]
  },
  {
   "cell_type": "code",
   "execution_count": null,
   "metadata": {},
   "outputs": [],
   "source": [
    "def get_ts_xlabels(index, time): \n",
    "    xlabels = []\n",
    "    if type(index) == pd.MultiIndex:\n",
    "        if time == 'weekly':\n",
    "            for item in index:\n",
    "                year = str(item[0])\n",
    "                month = str(item[1])\n",
    "                if len(month) == 1:\n",
    "                    month = '0' + month\n",
    "                day = str(item[2])\n",
    "                if len(day) == 1:\n",
    "                    day = '0' + day\n",
    "                xlabels.append(year + '-' + month + '-' + day)\n",
    "        if time == 'monthly':\n",
    "            xlabels = [month_dict[item[1]] + '\\n' + str(item[0]) for item in index]\n",
    "    return xlabels"
   ]
  },
  {
   "cell_type": "code",
   "execution_count": null,
   "metadata": {},
   "outputs": [],
   "source": [
    "def get_appointment_heatmap(data, apt_type, grouping, date_col, id_col, date_offset=0, save_fig=False, save_path=''):\n",
    "    day_names = ['Monday','Tuesday','Wednesday','Thursday','Friday','Saturday','Sunday',]\n",
    "    day_names_dict = dict({0:'Monday',1:'Tuesday',2:'Wednesday',3:'Thursday',4:'Friday',5:'Saturday',6:'Sunday'})\n",
    "    \n",
    "    # Set date range and filename\n",
    "    if date_offset < 0: # past\n",
    "        data = data[(data[date_col] >= pd.to_datetime(datetime.datetime.now() + pd.Timedelta(days=date_offset)).tz_localize(tz='US/Eastern')) & \n",
    "                    (data[date_col] <= pd.to_datetime(datetime.datetime.now()).tz_localize(tz='US/Eastern'))]\n",
    "        filename = apt_type + '_appointment_' + grouping + '_last' + str(abs(date_offset)) + 'days_'\n",
    "        offset_title = 'Last ' + str(abs(date_offset)) + ' Days'\n",
    "    elif date_offset > 0: # future\n",
    "        data = data[(data[date_col] <= pd.to_datetime(datetime.datetime.now() + pd.Timedelta(days=date_offset)).tz_localize(tz='US/Eastern')) & \n",
    "                    (data[date_col] >= pd.to_datetime(datetime.datetime.now()).tz_localize(tz='US/Eastern'))]\n",
    "        filename = apt_type + '_appointment_' + grouping + '_next' + str(date_offset) + 'days_'\n",
    "        offset_title = 'Next ' + str(date_offset) + ' Days'\n",
    "    else: \n",
    "        filename = apt_type + '_appointment_' + grouping + '_allTime_'\n",
    "        offset_title = 'All Time'\n",
    "    \n",
    "    # Prep figure data and labels\n",
    "    data = data.groupby([grouping,'support_role_id']).count()[id_col]\n",
    "    data = data.unstack().fillna(0)\n",
    "    data = data.transpose()\n",
    "    \n",
    "    if grouping == 'dayofweek':\n",
    "        data.columns = [day_names_dict[item] for item in data.columns]\n",
    "        grouping_title = 'Day of Week'\n",
    "    elif grouping == 'hourofday':\n",
    "        grouping_title = 'Hour of Day'\n",
    "        \n",
    "    # Plot\n",
    "    fig, ax = plt.subplots(figsize=(16,8)) \n",
    "    sns.heatmap(data, annot=True, linewidths=.5, ax=ax)\n",
    "    ax.set_title(apt_type.capitalize() + ' Appointments by ' + grouping_title + ': ' + offset_title, fontsize=18)\n",
    "    \n",
    "    if save_fig:\n",
    "        save_figure(fig, save_path, filename)\n",
    "        \n",
    "    return"
   ]
  },
  {
   "cell_type": "code",
   "execution_count": null,
   "metadata": {},
   "outputs": [],
   "source": [
    "def save_figure(fig, path, filename):\n",
    "    name = path + filename + str(datetime.datetime.now().date()).replace('-','') + '.png'\n",
    "    fig.savefig(name, bbox_inches='tight', pad_inches=0, dpi=SAVE_DPI, transparent=True)\n",
    "    \n",
    "    return"
   ]
  },
  {
   "cell_type": "code",
   "execution_count": null,
   "metadata": {},
   "outputs": [],
   "source": []
  },
  {
   "cell_type": "code",
   "execution_count": null,
   "metadata": {},
   "outputs": [],
   "source": []
  },
  {
   "cell_type": "code",
   "execution_count": null,
   "metadata": {},
   "outputs": [],
   "source": []
  },
  {
   "cell_type": "code",
   "execution_count": null,
   "metadata": {},
   "outputs": [],
   "source": []
  }
 ],
 "metadata": {
  "kernelspec": {
   "display_name": "Python 3 (ipykernel)",
   "language": "python",
   "name": "python3"
  },
  "language_info": {
   "codemirror_mode": {
    "name": "ipython",
    "version": 3
   },
   "file_extension": ".py",
   "mimetype": "text/x-python",
   "name": "python",
   "nbconvert_exporter": "python",
   "pygments_lexer": "ipython3",
   "version": "3.7.7"
  }
 },
 "nbformat": 4,
 "nbformat_minor": 4
}
