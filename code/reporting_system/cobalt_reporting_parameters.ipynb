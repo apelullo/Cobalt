{
 "cells": [
  {
   "cell_type": "markdown",
   "metadata": {},
   "source": [
    "# Cobalt Reporting Parameters\n",
    "* Universal configuration and system-level (cobalt platform) configuration - only modify following changes to the cobalt platform that impact data structures and classifications"
   ]
  },
  {
   "cell_type": "code",
   "execution_count": 1,
   "metadata": {},
   "outputs": [],
   "source": [
    "# Modules\n",
    "from cobalt_reporting_config import *\n",
    "import pandas as pd\n",
    "import datetime"
   ]
  },
  {
   "cell_type": "markdown",
   "metadata": {},
   "source": [
    "# Collections"
   ]
  },
  {
   "cell_type": "code",
   "execution_count": 2,
   "metadata": {},
   "outputs": [],
   "source": [
    "month_dict = dict({1:'Jan', 2:'Feb', 3:'Mar', 4:'Apr', 5:'May', 6:'Jun', \n",
    "                   7:'Jul', 8:'Aug', 9:'Sep', 10:'Oct', 11:'Nov', 12:'Dec',})\n",
    "\n",
    "\n",
    "appt_provider_role_dict = dict({'The Chaplain is In - for You':'CHAPLAIN',\n",
    "                                '1:1 Session with Chaplain':'CHAPLAIN',\n",
    "                                '1:1 with Peer':'PEER',\n",
    "                                '1:1 Session with Resilience Coach':'COACH',\n",
    "                                '1:1 with Care Manager':'CARE_MANAGER',\n",
    "                                '1:1 Initial Appointment with Psychotherapist':'CLINICIAN','1:1 CTSA Intake Appointment':'CLINICIAN','1:1 Appointment with Psychotherapist':'CLINICIAN','CCT Intake Appointment':'CLINICIAN',\n",
    "                                '1:1 Session with Psychiatrist':'PSYCHIATRIST','1:1 Psychiatrist Follow-ups':'PSYCHIATRIST','1:1 with Psychiatric Nurse Practitioner':'PSYCHIATRIST','1:1 Psych NP Follow-Up':'PSYCHIATRIST',\n",
    "                                '1:1 with Dietitian':'OTHER','1:1 Session with Exercise Physiologist':'OTHER','1:1 Strength and Training Specialist':'OTHER','1:1 with Pain Specialist':'OTHER',})"
   ]
  },
  {
   "cell_type": "markdown",
   "metadata": {},
   "source": [
    "# Dates"
   ]
  },
  {
   "cell_type": "code",
   "execution_count": 3,
   "metadata": {},
   "outputs": [],
   "source": [
    "# Dates and date ranges\n",
    "cobalt_start_date = pd.to_datetime(COBALT_START_DATE).tz_localize(tz=COBALT_TZ)\n",
    "current_date = pd.to_datetime(datetime.datetime.now()).tz_localize(tz=COBALT_TZ)\n",
    "future_30day = pd.to_datetime(datetime.datetime.now() + pd.Timedelta(days=30)).tz_localize(tz=COBALT_TZ)\n",
    "future_90day = pd.to_datetime(datetime.datetime.now() + pd.Timedelta(days=90)).tz_localize(tz=COBALT_TZ)\n",
    "past_30day = pd.to_datetime(datetime.datetime.now() - pd.Timedelta(days=30)).tz_localize(tz=COBALT_TZ)\n",
    "past_90day = pd.to_datetime(datetime.datetime.now() - pd.Timedelta(days=90)).tz_localize(tz=COBALT_TZ)"
   ]
  },
  {
   "cell_type": "code",
   "execution_count": 4,
   "metadata": {},
   "outputs": [],
   "source": [
    "# Date indices\n",
    "cobalt_date_range = pd.date_range(cobalt_start_date,current_date,freq='d')\n",
    "cobalt_date_range = pd.DataFrame(cobalt_date_range, columns=['dates'])\n",
    "cobalt_date_range['year'] = cobalt_date_range['dates'].dt.year\n",
    "cobalt_date_range['month'] = cobalt_date_range['dates'].dt.month\n",
    "cobalt_date_range['year_month_week'] = cobalt_date_range['dates'].values.astype('datetime64[W]')\n",
    "\n",
    "month_index_df = pd.DataFrame(index=cobalt_date_range.groupby(['year','month']).count().index)\n",
    "week_index_df = pd.DataFrame(index=cobalt_date_range.groupby(['year_month_week']).count().index)\n",
    "week_index_df.index = pd.MultiIndex.from_arrays([week_index_df.index.year, \n",
    "                                                            week_index_df.index.month, \n",
    "                                                            week_index_df.index.day], \n",
    "                                                            names=['Year','Month','Week'])"
   ]
  },
  {
   "cell_type": "markdown",
   "metadata": {},
   "source": [
    "# Data Entity Meta"
   ]
  },
  {
   "cell_type": "code",
   "execution_count": null,
   "metadata": {},
   "outputs": [],
   "source": [
    "\"\"\"\n",
    "Meta data for root (database) and derived (custom) entities.\n",
    "Group, time, and indicator meta-record type: {'name':'','label':''}\n",
    "Group cols: define entity-specific partitions of the reporting table columns\n",
    "Time cols: temporal groups prepended to the index\n",
    "Indicator cols: define global partitions in the reporting table index\n",
    "Filter cols: custom filter rules - can be entity-specific or global (dict properties TBD)\n",
    "\"\"\" \n",
    "group_template = {'name':'','label':''}\n",
    "time_template = {'name':'','label':''}\n",
    "indicator_template = {'name':'','label':''}\n",
    "filter_template = {}\n",
    "\n",
    "entity_meta_template = {'name':'',\n",
    "                        'short_name':'',\n",
    "                        'display_label':'',\n",
    "                        'pkey':'',\n",
    "                        'entity_type':''\n",
    "                        'getter_func':''\n",
    "                        'group_cols':[],\n",
    "                        'time_cols':[],\n",
    "                        'indicator_cols':[],\n",
    "                        'filters':[],\n",
    "                        'dependencies':[],\n",
    "                        'references':,[]}\n",
    "\n"
   ]
  },
  {
   "cell_type": "markdown",
   "metadata": {},
   "source": [
    "# Visualization"
   ]
  },
  {
   "cell_type": "code",
   "execution_count": null,
   "metadata": {},
   "outputs": [],
   "source": [
    "class color:\n",
    "   PURPLE = '\\033[95m'\n",
    "   CYAN = '\\033[96m'\n",
    "   DARKCYAN = '\\033[36m'\n",
    "   BLUE = '\\033[94m'\n",
    "   GREEN = '\\033[92m'\n",
    "   YELLOW = '\\033[93m'\n",
    "   RED = '\\033[91m'\n",
    "   BOLD = '\\033[1m'\n",
    "   UNDERLINE = '\\033[4m'\n",
    "   END = '\\033[0m'"
   ]
  },
  {
   "cell_type": "code",
   "execution_count": 9,
   "metadata": {},
   "outputs": [],
   "source": [
    "SAVE_DPI = 500\n",
    "APT_MONTHLY_YMAX = 300\n",
    "APT_WEEKLY_YMAX = 100"
   ]
  },
  {
   "cell_type": "markdown",
   "metadata": {},
   "source": [
    "# Unused/Deprecated Code"
   ]
  },
  {
   "cell_type": "code",
   "execution_count": null,
   "metadata": {},
   "outputs": [],
   "source": [
    "\"\"\"\n",
    "\n",
    "#### THIS IS AN OLD META STRUCTURE - KEEPING FOR REFERENCE ####\n",
    "# Definitions\n",
    "data_entity_names = ['account','acct_monthly_ts_data','acct_weekly_ts_data','acct_src_ts_data','acct_src_weekly_ts_data']\n",
    "data_entity_types = ['root','master','derived']\n",
    "data_entity_groups = ['all_data','root_data','master_data','derived_data', # entity types\n",
    "                      'account_data','provider_data','appointment_data','outcomes_data' # entity content\n",
    "                      'reporting_data','analysis_data','time_series_data','frequency_data','list_data'] # reporting\n",
    "data_entity_properties = {'name':{'type':str, 'default':''},\n",
    "                          'types':{'type':list, 'default':[]}, \n",
    "                          'subsets':{'type':list, 'default':[]},\n",
    "                          'groups':{'type':list, 'default':[]},\n",
    "                          'dependencies':{'type':list, 'default':[]},\n",
    "                          'references':{'type':list, 'default':[]},\n",
    "                          'custom_filters':{'type':list, 'default':[]},\n",
    "                          'description':{'type':str, 'default':''}}\n",
    "\n",
    "# Associations\n",
    "data_entity_type_dict = {'account':['root','master'], \n",
    "                         'acct_monthly_ts_data':['derived'],\n",
    "                         'acct_weekly_ts_data':['derived'],\n",
    "                         'acct_src_ts_data':['derived'],\n",
    "                         'acct_src_weekly_ts_data':['derived'],}\n",
    "\n",
    "data_entity_subset_dict = {'account':[], \n",
    "                         'acct_monthly_ts_data':[],\n",
    "                         'acct_weekly_ts_data':[],\n",
    "                         'acct_src_ts_data':[],\n",
    "                         'acct_src_weekly_ts_data':[],}\n",
    "\n",
    "\"\"\""
   ]
  },
  {
   "cell_type": "code",
   "execution_count": null,
   "metadata": {},
   "outputs": [],
   "source": []
  }
 ],
 "metadata": {
  "kernelspec": {
   "display_name": "Python [conda env:base] *",
   "language": "python",
   "name": "conda-base-py"
  },
  "language_info": {
   "codemirror_mode": {
    "name": "ipython",
    "version": 3
   },
   "file_extension": ".py",
   "mimetype": "text/x-python",
   "name": "python",
   "nbconvert_exporter": "python",
   "pygments_lexer": "ipython3",
   "version": "3.11.8"
  }
 },
 "nbformat": 4,
 "nbformat_minor": 4
}
