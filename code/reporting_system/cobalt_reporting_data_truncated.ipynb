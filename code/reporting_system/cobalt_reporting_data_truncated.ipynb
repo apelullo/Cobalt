{
 "cells": [
  {
   "cell_type": "markdown",
   "id": "3e53ea89",
   "metadata": {},
   "source": [
    "# Cobalt Reporting Data Truncated\n",
    "* Truncated *cobalt_reporting_data.ipynb* code for faster generation of critical analytics spreadsheets"
   ]
  },
  {
   "cell_type": "code",
   "execution_count": 5,
   "id": "a0584f3e",
   "metadata": {},
   "outputs": [
    {
     "ename": "NameError",
     "evalue": "name 'LOG_PATH' is not defined",
     "output_type": "error",
     "traceback": [
      "\u001b[0;31m---------------------------------------------------------------------------\u001b[0m",
      "\u001b[0;31mNameError\u001b[0m                                 Traceback (most recent call last)",
      "Cell \u001b[0;32mIn[5], line 2\u001b[0m\n\u001b[1;32m      1\u001b[0m \u001b[38;5;66;03m# Modules\u001b[39;00m\n\u001b[0;32m----> 2\u001b[0m \u001b[38;5;28;01mfrom\u001b[39;00m \u001b[38;5;21;01mcobalt_reporting_functions\u001b[39;00m \u001b[38;5;28;01mimport\u001b[39;00m \u001b[38;5;241m*\u001b[39m\n\u001b[1;32m      4\u001b[0m \u001b[38;5;28;01mimport\u001b[39;00m \u001b[38;5;21;01mpandas\u001b[39;00m \u001b[38;5;28;01mas\u001b[39;00m \u001b[38;5;21;01mpd\u001b[39;00m\n\u001b[1;32m      5\u001b[0m \u001b[38;5;28;01mfrom\u001b[39;00m \u001b[38;5;21;01mpandas\u001b[39;00m\u001b[38;5;21;01m.\u001b[39;00m\u001b[38;5;21;01mapi\u001b[39;00m\u001b[38;5;21;01m.\u001b[39;00m\u001b[38;5;21;01mtypes\u001b[39;00m \u001b[38;5;28;01mimport\u001b[39;00m CategoricalDtype\n",
      "File \u001b[0;32m~/Desktop/career/portfolio/public_portfolio/operations_projects/cobalt/code/reporting_system/cobalt_reporting_functions.py:8\u001b[0m\n\u001b[1;32m      1\u001b[0m \u001b[38;5;66;03m#!/usr/bin/env python\u001b[39;00m\n\u001b[1;32m      2\u001b[0m \u001b[38;5;66;03m# coding: utf-8\u001b[39;00m\n\u001b[1;32m      3\u001b[0m \n\u001b[0;32m   (...)\u001b[0m\n\u001b[1;32m      6\u001b[0m \n\u001b[1;32m      7\u001b[0m \u001b[38;5;66;03m#### Modules ####\u001b[39;00m\n\u001b[0;32m----> 8\u001b[0m \u001b[38;5;28;01mfrom\u001b[39;00m \u001b[38;5;21;01mcobalt_reporting_parameters\u001b[39;00m \u001b[38;5;28;01mimport\u001b[39;00m \u001b[38;5;241m*\u001b[39m\n\u001b[1;32m     10\u001b[0m \u001b[38;5;28;01mimport\u001b[39;00m \u001b[38;5;21;01mpandas\u001b[39;00m \u001b[38;5;28;01mas\u001b[39;00m \u001b[38;5;21;01mpd\u001b[39;00m\n\u001b[1;32m     11\u001b[0m \u001b[38;5;28;01mimport\u001b[39;00m \u001b[38;5;21;01mnumpy\u001b[39;00m \u001b[38;5;28;01mas\u001b[39;00m \u001b[38;5;21;01mnp\u001b[39;00m\n",
      "File \u001b[0;32m~/Desktop/career/portfolio/public_portfolio/operations_projects/cobalt/code/reporting_system/cobalt_reporting_parameters.py:8\u001b[0m\n\u001b[1;32m      6\u001b[0m \n\u001b[1;32m      7\u001b[0m #### Modules ####\n\u001b[0;32m----> 8\u001b[0m from cobalt_reporting_config import *\n\u001b[1;32m      9\u001b[0m import pandas as pd\n\u001b[1;32m     10\u001b[0m import datetime\n",
      "File \u001b[0;32m~/Desktop/career/portfolio/public_portfolio/operations_projects/cobalt/code/reporting_system/cobalt_reporting_config.py:57\u001b[0m\n\u001b[1;32m     54\u001b[0m GROUP_SESSION_FEEDBACK_SESSIONS_META_PATH \u001b[38;5;241m=\u001b[39m GROUP_SESSION_FEEDBACK_DATA_PATH \u001b[38;5;241m+\u001b[39m \u001b[38;5;124m'\u001b[39m\u001b[38;5;124msessions_meta/\u001b[39m\u001b[38;5;124m'\u001b[39m\n\u001b[1;32m     56\u001b[0m \u001b[38;5;66;03m# Logs paths\u001b[39;00m\n\u001b[0;32m---> 57\u001b[0m BACKEND_ISSUES_LOGS_PATH \u001b[38;5;241m=\u001b[39m LOG_PATH \u001b[38;5;241m+\u001b[39m \u001b[38;5;124m'\u001b[39m\u001b[38;5;124mbackend_issues_logs/\u001b[39m\u001b[38;5;124m'\u001b[39m\n\u001b[1;32m     58\u001b[0m FRONTEND_ISSUES_LOGS_PATH \u001b[38;5;241m=\u001b[39m LOG_PATH \u001b[38;5;241m+\u001b[39m \u001b[38;5;124m'\u001b[39m\u001b[38;5;124mfrontend_issues_logs/\u001b[39m\u001b[38;5;124m'\u001b[39m\n\u001b[1;32m     59\u001b[0m DATA_ANOMALIES_LOGS_PATH \u001b[38;5;241m=\u001b[39m LOG_PATH \u001b[38;5;241m+\u001b[39m \u001b[38;5;124m'\u001b[39m\u001b[38;5;124mdata_anomalies_logs/\u001b[39m\u001b[38;5;124m'\u001b[39m\n",
      "\u001b[0;31mNameError\u001b[0m: name 'LOG_PATH' is not defined"
     ]
    }
   ],
   "source": [
    "# Modules\n",
    "from cobalt_reporting_functions import *\n",
    "\n",
    "import pandas as pd\n",
    "from pandas.api.types import CategoricalDtype\n",
    "import numpy as np\n",
    "from scipy import stats\n",
    "\n",
    "import re\n",
    "import copy\n",
    "import datetime\n",
    "from collections import defaultdict\n",
    "import itertools\n",
    "from itertools import cycle\n",
    "\n",
    "import glob\n",
    "import os\n",
    "\n",
    "import psycopg2\n",
    "from sqlalchemy import create_engine\n",
    "\n",
    "# Pandas view options\n",
    "pd.set_option('display.max_columns', 100)\n",
    "pd.set_option('display.max_rows', 200)\n",
    "pd.set_option('display.precision', 4)"
   ]
  },
  {
   "cell_type": "markdown",
   "id": "ac7bb896",
   "metadata": {},
   "source": [
    "# Master Data"
   ]
  },
  {
   "cell_type": "code",
   "execution_count": 2,
   "id": "297b3f3d",
   "metadata": {},
   "outputs": [],
   "source": [
    "# Connect to database\n",
    "read_cursor,reporting_cursor = database_connect()"
   ]
  },
  {
   "cell_type": "code",
   "execution_count": 3,
   "id": "2a85b0bb",
   "metadata": {},
   "outputs": [
    {
     "name": "stdout",
     "output_type": "stream",
     "text": [
      "147\n"
     ]
    },
    {
     "data": {
      "text/plain": [
       "[('account',),\n",
       " ('account_calendar_permission',),\n",
       " ('account_fingerprint',),\n",
       " ('account_invite',),\n",
       " ('account_login_rule',),\n",
       " ('account_session',),\n",
       " ('account_session_answer',),\n",
       " ('account_session_grouping',),\n",
       " ('account_session_grouping_all',),\n",
       " ('account_source',),\n",
       " ('activity_action',),\n",
       " ('activity_tracking',),\n",
       " ('activity_type',),\n",
       " ('answer',),\n",
       " ('answer_category',),\n",
       " ('appointment',),\n",
       " ('appointment_interaction_instance',),\n",
       " ('appointment_reason',),\n",
       " ('appointment_reason_type',),\n",
       " ('appointment_type',),\n",
       " ('appointment_type_assessment',),\n",
       " ('assessment',),\n",
       " ('assessment_type',),\n",
       " ('assessment_viewer',),\n",
       " ('attendance_status',),\n",
       " ('audit_log',),\n",
       " ('audit_log_event',),\n",
       " ('beta_feature',),\n",
       " ('beta_feature_alert',),\n",
       " ('beta_status',),\n",
       " ('calendar_permission',),\n",
       " ('category',),\n",
       " ('category_mapping',),\n",
       " ('clinic',),\n",
       " ('content',),\n",
       " ('content_action',),\n",
       " ('content_category',),\n",
       " ('content_type',),\n",
       " ('crisis_contact',),\n",
       " ('epic_appointment_filter',),\n",
       " ('epic_department',),\n",
       " ('external_group_event_type',),\n",
       " ('feedback_contact',),\n",
       " ('followup',),\n",
       " ('followup_email_status',),\n",
       " ('font_size',),\n",
       " ('geography_columns',),\n",
       " ('geometry_columns',),\n",
       " ('group_event_type',),\n",
       " ('group_session',),\n",
       " ('group_session_request',),\n",
       " ('group_session_request_status',),\n",
       " ('group_session_reservation',),\n",
       " ('group_session_response',),\n",
       " ('group_session_scheduling_system',),\n",
       " ('group_session_status',),\n",
       " ('group_session_system',),\n",
       " ('institution',),\n",
       " ('institution_account_source',),\n",
       " ('institution_assessment',),\n",
       " ('institution_content',),\n",
       " ('interaction',),\n",
       " ('interaction_instance',),\n",
       " ('interaction_option',),\n",
       " ('interaction_option_action',),\n",
       " ('interaction_type',),\n",
       " ('load_blog_post',),\n",
       " ('load_content',),\n",
       " ('load_content_category_mapping',),\n",
       " ('load_content_duration',),\n",
       " ('load_northwestern_content',),\n",
       " ('load_provider',),\n",
       " ('load_tracking',),\n",
       " ('logged_actions',),\n",
       " ('logical_availability',),\n",
       " ('logical_availability_appointment_type',),\n",
       " ('logical_availability_type',),\n",
       " ('login_destination',),\n",
       " ('message_log',),\n",
       " ('message_status',),\n",
       " ('message_type',),\n",
       " ('password_reset_request',),\n",
       " ('payment_funding',),\n",
       " ('payment_type',),\n",
       " ('provider',),\n",
       " ('provider_appointment_type',),\n",
       " ('provider_availability',),\n",
       " ('provider_availability_appointment_type_history',),\n",
       " ('provider_availability_history',),\n",
       " ('provider_clinic',),\n",
       " ('provider_epic_department',),\n",
       " ('provider_interaction',),\n",
       " ('provider_old_availability_sync_log',),\n",
       " ('provider_payment_type',),\n",
       " ('provider_payment_type_save',),\n",
       " ('provider_save',),\n",
       " ('provider_specialty',),\n",
       " ('provider_support_role',),\n",
       " ('provider_support_role_save',),\n",
       " ('question',),\n",
       " ('question_content_hint',),\n",
       " ('question_type',),\n",
       " ('raster_columns',),\n",
       " ('raster_overviews',),\n",
       " ('recommendation_level',),\n",
       " ('recommendation_level_to_support_role',),\n",
       " ('recurrence_type',),\n",
       " ('reporting_monthly_rollup_save',),\n",
       " ('reporting_weekly_rollup_save',),\n",
       " ('role',),\n",
       " ('scheduled_message',),\n",
       " ('scheduled_message_status',),\n",
       " ('scheduling_system',),\n",
       " ('screening',),\n",
       " ('screening_answer',),\n",
       " ('screening_answer_content_hint',),\n",
       " ('screening_answer_format',),\n",
       " ('screening_answer_option',),\n",
       " ('screening_flow',),\n",
       " ('screening_flow_type',),\n",
       " ('screening_flow_version',),\n",
       " ('screening_institution',),\n",
       " ('screening_question',),\n",
       " ('screening_session',),\n",
       " ('screening_session_answered_screening_question',),\n",
       " ('screening_session_note',),\n",
       " ('screening_session_screening',),\n",
       " ('screening_session_support_role_recommendation',),\n",
       " ('screening_type',),\n",
       " ('screening_version',),\n",
       " ('short_url',),\n",
       " ('source_system',),\n",
       " ('spatial_ref_sys',),\n",
       " ('specialty',),\n",
       " ('support_role',),\n",
       " ('system_affinity',),\n",
       " ('tableslist',),\n",
       " ('v_account_session_answer',),\n",
       " ('v_accounts_for_stats',),\n",
       " ('v_appointment_type',),\n",
       " ('v_beta_feature_alert',),\n",
       " ('v_recommendation',),\n",
       " ('v_screening_answer',),\n",
       " ('v_screening_session_answered_screening_question',),\n",
       " ('videoconference_platform',),\n",
       " ('visit_type',),\n",
       " ('way2health_incident',)]"
      ]
     },
     "execution_count": 3,
     "metadata": {},
     "output_type": "execute_result"
    }
   ],
   "source": [
    "# List all Cobalt tables\n",
    "query = \"\"\"SELECT table_name FROM information_schema.tables WHERE table_schema='cobalt'\"\"\"\n",
    "reporting_cursor.execute(query)\n",
    "result = reporting_cursor.fetchall()\n",
    "\n",
    "#print(len(result))\n",
    "sorted(result)"
   ]
  },
  {
   "cell_type": "markdown",
   "id": "8812734a",
   "metadata": {},
   "source": [
    "## Institution"
   ]
  },
  {
   "cell_type": "markdown",
   "id": "f03a54ea",
   "metadata": {},
   "source": [
    "### Institution"
   ]
  },
  {
   "cell_type": "code",
   "execution_count": 4,
   "id": "ad86bc0a",
   "metadata": {},
   "outputs": [],
   "source": [
    "institution = get_table_data(reporting_cursor, 'institution')"
   ]
  },
  {
   "cell_type": "markdown",
   "id": "d21884ca",
   "metadata": {},
   "source": [
    "### Institution Acount Source"
   ]
  },
  {
   "cell_type": "code",
   "execution_count": 5,
   "id": "f3fd2c85",
   "metadata": {},
   "outputs": [],
   "source": [
    "institution_account_source = get_table_data(reporting_cursor, 'institution_account_source')"
   ]
  },
  {
   "cell_type": "markdown",
   "id": "d617b63f",
   "metadata": {},
   "source": [
    "### Institution Assessment"
   ]
  },
  {
   "cell_type": "code",
   "execution_count": 6,
   "id": "68f895bf",
   "metadata": {},
   "outputs": [],
   "source": [
    "institution_assessment = get_table_data(reporting_cursor, 'institution_assessment')"
   ]
  },
  {
   "cell_type": "markdown",
   "id": "de643035",
   "metadata": {},
   "source": [
    "### Institution Content"
   ]
  },
  {
   "cell_type": "code",
   "execution_count": 7,
   "id": "6dbfb701",
   "metadata": {},
   "outputs": [],
   "source": [
    "institution_content = get_table_data(reporting_cursor, 'institution_content')"
   ]
  },
  {
   "cell_type": "markdown",
   "id": "71addf45",
   "metadata": {},
   "source": [
    "## Accounts"
   ]
  },
  {
   "cell_type": "markdown",
   "id": "b3165337",
   "metadata": {},
   "source": [
    "### Account"
   ]
  },
  {
   "cell_type": "code",
   "execution_count": 8,
   "id": "fdb890d5",
   "metadata": {},
   "outputs": [
    {
     "name": "stderr",
     "output_type": "stream",
     "text": [
      "/anaconda3/lib/python3.7/site-packages/ipykernel_launcher.py:7: FutureWarning: Series.dt.weekofyear and Series.dt.week have been deprecated.  Please use Series.dt.isocalendar().week instead.\n",
      "  import sys\n"
     ]
    }
   ],
   "source": [
    "# Get account data\n",
    "account = get_table_data(reporting_cursor, 'account')\n",
    "\n",
    "# Adjust columns\n",
    "account['year'] = account['created'].dt.year\n",
    "account['month'] = account['created'].dt.month\n",
    "account['week'] = account['created'].dt.isocalendar().week\n",
    "account['day'] = account['created'].dt.day\n",
    "account['year_month'] = account['created'].values.astype('datetime64[M]')\n",
    "account['year_month_week'] = account['created'].values.astype('datetime64[W]')\n",
    "account['dayofyear'] = account['created'].apply(lambda x: get_date_str(x))\n",
    "\n",
    "# Filter for relevant data\n",
    "account = account[(account['institution_id']=='PENN') & (account['role_id']=='PATIENT')]\n",
    "account = account[account['phone_number']!='+12157777777'] # added 11/10/2021\n",
    "\n",
    "# Time series data\n",
    "acct_monthly_ts_data = pd.DataFrame(account.groupby(['year','month']).count().account_id)\n",
    "acct_weekly_ts_data = pd.DataFrame(account.groupby(['year_month_week']).count().account_id)\n",
    "acct_weekly_ts_data.index = pd.MultiIndex.from_arrays([acct_weekly_ts_data.index.year, \n",
    "                                                            acct_weekly_ts_data.index.month, \n",
    "                                                            acct_weekly_ts_data.index.day], \n",
    "                                                            names=['Year','Month','Week'])\n",
    "\n",
    "# Time series data by account source\n",
    "acct_src_ts_data = pd.DataFrame(account.groupby(['year','month','account_source_id']).count().account_id)\n",
    "acct_src_ts_data = acct_src_ts_data.unstack().fillna(0).account_id\n",
    "\n",
    "acct_src_weekly_ts_data = pd.DataFrame(account.groupby(['year_month_week', 'account_source_id']).count()).account_id\n",
    "acct_src_weekly_ts_data = acct_src_weekly_ts_data.unstack().fillna(0)\n",
    "acct_src_weekly_ts_data.index = pd.MultiIndex.from_arrays([acct_src_weekly_ts_data.index.year, \n",
    "                                                      acct_src_weekly_ts_data.index.month, \n",
    "                                                      acct_src_weekly_ts_data.index.day], \n",
    "                                                      names=['Year','Month','Week'])"
   ]
  },
  {
   "cell_type": "markdown",
   "id": "aae228f9",
   "metadata": {},
   "source": [
    "## Providers"
   ]
  },
  {
   "cell_type": "markdown",
   "id": "e90493ca",
   "metadata": {},
   "source": [
    "### Provider"
   ]
  },
  {
   "cell_type": "code",
   "execution_count": 9,
   "id": "c8031944",
   "metadata": {},
   "outputs": [],
   "source": [
    "# Get provider data\n",
    "provider = get_table_data(reporting_cursor, 'provider')\n",
    "\n",
    "# Adjust columns\n",
    "provider['year'] = provider['created'].dt.year\n",
    "provider['month'] = provider['created'].dt.month\n",
    "provider['day'] = provider['created'].dt.day\n",
    "provider['year_month'] = provider['created'].values.astype('datetime64[M]')\n",
    "provider['year_month_week'] = provider['created'].values.astype('datetime64[W]')\n",
    "provider['dayofyear'] = provider['created'].apply(lambda x: get_date_str(x))\n",
    "\n",
    "# Filter for relevant data\n",
    "provider = provider[provider['institution_id']=='PENN']\n",
    "provider = provider[provider['system_affinity_id'] != 'PIC']\n",
    "\n",
    "# Time series data\n",
    "prov_ts_data = pd.DataFrame(provider.groupby(['year','month']).count().provider_id)\n",
    "prov_ts_data = prov_ts_data.merge(month_index_df, how='outer', left_index=True, right_index=True) # Get missing index values\n",
    "prov_ts_data = pd.DataFrame(prov_ts_data.fillna(0)['provider_id'])\n",
    "\n",
    "prov_weekly_ts_data = pd.DataFrame(provider.groupby(['year_month_week']).count().provider_id)\n",
    "prov_weekly_ts_data.index = pd.MultiIndex.from_arrays([prov_weekly_ts_data.index.year, \n",
    "                                                      prov_weekly_ts_data.index.month, \n",
    "                                                      prov_weekly_ts_data.index.day], \n",
    "                                                      names=['Year','Month','Week'])\n",
    "prov_weekly_ts_data = prov_weekly_ts_data.merge(week_index_df, how='outer', left_index=True, right_index=True)# Get missing index values\n",
    "prov_weekly_ts_data = pd.DataFrame(prov_weekly_ts_data.fillna(0)['provider_id'])"
   ]
  },
  {
   "cell_type": "markdown",
   "id": "aefc484a",
   "metadata": {},
   "source": [
    "### Provider Support Role"
   ]
  },
  {
   "cell_type": "code",
   "execution_count": 10,
   "id": "c6a14b19",
   "metadata": {},
   "outputs": [],
   "source": [
    "# Get provider role data\n",
    "provider_support_role = get_table_data(reporting_cursor, 'provider_support_role')\n",
    "\n",
    "# Filter for relevant data\n",
    "provider_support_role = provider_support_role[provider_support_role['provider_id'].isin(provider['provider_id'])]"
   ]
  },
  {
   "cell_type": "markdown",
   "id": "ec7c19a1",
   "metadata": {},
   "source": [
    "### Provider Appointment Type"
   ]
  },
  {
   "cell_type": "code",
   "execution_count": 11,
   "id": "38163d2b",
   "metadata": {},
   "outputs": [],
   "source": [
    "# Get provider appointment type data\n",
    "provider_appointment_type = get_table_data(reporting_cursor, 'provider_appointment_type')\n",
    "\n",
    "# Filter for relevant data\n",
    "provider_appointment_type = provider_appointment_type[provider_appointment_type['provider_id'].isin(provider['provider_id'])]"
   ]
  },
  {
   "cell_type": "markdown",
   "id": "c3641a2a",
   "metadata": {},
   "source": [
    "## Appointments"
   ]
  },
  {
   "cell_type": "markdown",
   "id": "20e50478",
   "metadata": {},
   "source": [
    "### Appointment Type"
   ]
  },
  {
   "cell_type": "code",
   "execution_count": 12,
   "id": "ba253bca",
   "metadata": {},
   "outputs": [],
   "source": [
    "# Get appointment type data\n",
    "appointment_type = get_table_data(reporting_cursor, 'appointment_type')\n",
    "\n",
    "appointment_type_dict = dict(zip(appointment_type.appointment_type_id, appointment_type.name))"
   ]
  },
  {
   "cell_type": "markdown",
   "id": "beebc59f",
   "metadata": {},
   "source": [
    "### Booked Appointments"
   ]
  },
  {
   "cell_type": "code",
   "execution_count": 13,
   "id": "b363946f",
   "metadata": {
    "scrolled": true
   },
   "outputs": [],
   "source": [
    "# Get appointment data\n",
    "appointment = get_table_data(reporting_cursor, 'appointment')\n",
    "\n",
    "# Adjust columns\n",
    "appointment['start_time'] = appointment['start_time'].dt.tz_localize(tz='US/Eastern')\n",
    "appointment['created'] = appointment['created'].dt.tz_convert(tz='US/Eastern')\n",
    "\n",
    "appointment['created_year'] = appointment['created'].dt.year\n",
    "appointment['created_month'] = appointment['created'].dt.month\n",
    "appointment['created_day'] = appointment['created'].dt.day\n",
    "appointment['created_year_month'] = appointment['created'].values.astype('datetime64[M]')\n",
    "appointment['created_year_month_week'] = appointment['created'].values.astype('datetime64[W]')\n",
    "appointment['created_dayofyear'] = appointment['created'].apply(lambda x: get_date_str(x))\n",
    "\n",
    "appointment['apt_year'] = appointment['start_time'].dt.year\n",
    "appointment['apt_month'] = appointment['start_time'].dt.month\n",
    "appointment['apt_day'] = appointment['start_time'].dt.day\n",
    "appointment['apt_year_month'] = appointment['start_time'].values.astype('datetime64[M]')\n",
    "appointment['apt_year_month_week'] = appointment['start_time'].values.astype('datetime64[W]')\n",
    "appointment['apt_dayofyear'] = appointment['start_time'].apply(lambda x: get_date_str(x))\n",
    "\n",
    "appointment['created_completed_time']=((appointment['start_time'] - appointment['created'])/np.timedelta64(1, 'D')).round()\n",
    "appointment['appointment_type_name'] = appointment['appointment_type_id'].map(appointment_type_dict)\n",
    "appointment = get_appt_provider_role_df(appointment, provider_support_role)\n",
    "\n",
    "# Filter for relevant data\n",
    "appointment = appointment[appointment['created'] < appointment['start_time']]\n",
    "appointment = appointment.groupby(['account_id']).filter(lambda x: len(x)<50)\n",
    "appointment = appointment[appointment['account_id'].isin(account['account_id'])]\n",
    "appointment = appointment[appointment['provider_id'].isin(provider['provider_id'])]\n",
    "appointment = appointment[appointment['acuity_class_id'].isnull()]\n",
    "\n",
    "# Appointment Subsets\n",
    "appointment_completed = appointment[appointment['canceled']==False]\n",
    "appointment_canceled = appointment[appointment['canceled']==True]\n",
    "\n",
    "appointment_future = appointment[appointment['start_time'] >= current_date]\n",
    "appointment_future_30day = appointment_future[appointment_future['start_time'] <= future_30day]\n",
    "appointment_future_90day = appointment_future[appointment_future['start_time'] <= future_90day]\n",
    "\n",
    "appointment_past = appointment[appointment['start_time'] <= current_date]\n",
    "appointment_past_30day = appointment_past[appointment_past['start_time'] >= past_30day]\n",
    "appointment_past_90day = appointment_past[appointment_past['start_time'] >= past_90day]\n",
    "\n",
    "# Time series data\n",
    "apt_ts_data = pd.DataFrame(appointment.groupby(['apt_year','apt_month']).count().appointment_id)\n",
    "apt_ts_data.index.names = ['year','month']\n",
    "apt_weekly_ts_data = pd.DataFrame(appointment.groupby(['apt_year_month_week']).count().appointment_id)\n",
    "apt_weekly_ts_data.index = pd.MultiIndex.from_arrays([apt_weekly_ts_data.index.year, \n",
    "                                                      apt_weekly_ts_data.index.month, \n",
    "                                                      apt_weekly_ts_data.index.day], \n",
    "                                                      names=['Year','Month','Week'])\n",
    "\n",
    "apt_completed_ts_data = pd.DataFrame(appointment_completed.groupby(['apt_year','apt_month']).count().appointment_id)\n",
    "apt_completed_ts_data.index.names = ['year','month']\n",
    "apt_weekly_completed_ts_data = pd.DataFrame(appointment_completed.groupby(['apt_year_month_week']).count().appointment_id)\n",
    "apt_weekly_completed_ts_data.index = pd.MultiIndex.from_arrays([apt_weekly_completed_ts_data.index.year, \n",
    "                                                                apt_weekly_completed_ts_data.index.month, \n",
    "                                                                apt_weekly_completed_ts_data.index.day],\n",
    "                                                                names=['Year','Month','Week'])\n",
    "\n",
    "apt_canceled_ts_data = pd.DataFrame(appointment_canceled.groupby(['apt_year','apt_month']).count().appointment_id)\n",
    "apt_canceled_ts_data.index.names = ['year','month']\n",
    "apt_weekly_canceled_ts_data = pd.DataFrame(appointment_canceled.groupby(['apt_year_month_week']).count().appointment_id)\n",
    "apt_weekly_canceled_ts_data.index = pd.MultiIndex.from_arrays([apt_weekly_canceled_ts_data.index.year, \n",
    "                                                                apt_weekly_canceled_ts_data.index.month, \n",
    "                                                                apt_weekly_canceled_ts_data.index.day],\n",
    "                                                                names=['Year','Month','Week'])\n",
    "\n",
    "# Time series data by provider role\n",
    "aptRole_ts_data = pd.DataFrame(appointment.groupby(['apt_year','apt_month','support_role_id']).count().appointment_id)\n",
    "aptRole_ts_data = aptRole_ts_data.unstack().fillna(0).appointment_id\n",
    "aptRole_ts_data.index.names = ['year','month']\n",
    "\n",
    "aptRole_weekly_ts_data = pd.DataFrame(appointment.groupby(['apt_year_month_week', 'support_role_id']).count()).appointment_id\n",
    "aptRole_weekly_ts_data = aptRole_weekly_ts_data.unstack().fillna(0)\n",
    "aptRole_weekly_ts_data.index = pd.MultiIndex.from_arrays([aptRole_weekly_ts_data.index.year, \n",
    "                                                      aptRole_weekly_ts_data.index.month, \n",
    "                                                      aptRole_weekly_ts_data.index.day], \n",
    "                                                      names=['Year','Month','Week'])"
   ]
  },
  {
   "cell_type": "markdown",
   "id": "ff39f7d0",
   "metadata": {},
   "source": [
    "### Available Appointments"
   ]
  },
  {
   "cell_type": "code",
   "execution_count": 14,
   "id": "85ba50ef",
   "metadata": {},
   "outputs": [],
   "source": [
    "# Get provider availability data\n",
    "provider_availability = get_table_data(reporting_cursor, 'provider_availability')\n",
    "\n",
    "# Adjust columns\n",
    "provider_availability['date_time'] = provider_availability['date_time'].dt.tz_localize(tz='US/Eastern')\n",
    "provider_availability['created'] = provider_availability['created'].dt.tz_convert(tz='US/Eastern')\n",
    "\n",
    "provider_availability['created_year'] = provider_availability['created'].dt.year\n",
    "provider_availability['created_month'] = provider_availability['created'].dt.month\n",
    "provider_availability['created_day'] = provider_availability['created'].dt.day\n",
    "provider_availability['created_year_month'] = provider_availability['created'].values.astype('datetime64[M]')\n",
    "provider_availability['created_year_month_week'] = provider_availability['created'].values.astype('datetime64[W]')\n",
    "provider_availability['created_dayofyear'] = provider_availability['created'].apply(lambda x: get_date_str(x))\n",
    "\n",
    "provider_availability['apt_year'] = provider_availability['date_time'].dt.year\n",
    "provider_availability['apt_month'] = provider_availability['date_time'].dt.month\n",
    "provider_availability['apt_day'] = provider_availability['date_time'].dt.day\n",
    "provider_availability['apt_year_month'] = provider_availability['date_time'].values.astype('datetime64[M]')\n",
    "provider_availability['apt_year_month_week'] = provider_availability['date_time'].values.astype('datetime64[W]')\n",
    "provider_availability['apt_dayofyear'] = provider_availability['date_time'].apply(lambda x: get_date_str(x))\n",
    "\n",
    "provider_availability['appointment_type_name'] = provider_availability['appointment_type_id'].map(appointment_type_dict)\n",
    "provider_availability = get_appt_provider_role_df(provider_availability, provider_support_role)\n",
    "\n",
    "# Filter for relevant data\n",
    "provider_availability = provider_availability[provider_availability['provider_id'].isin(provider['provider_id'])]\n",
    "\n",
    "# Provider availability subsets\n",
    "provider_availability_future = provider_availability[provider_availability['date_time'] >= current_date]\n",
    "provider_availability_future_30day = provider_availability_future[provider_availability_future['date_time'] <= future_30day]\n",
    "provider_availability_future_90day = provider_availability_future[provider_availability_future['date_time'] <= future_90day]\n",
    "\n",
    "provider_availability_past = provider_availability[provider_availability['date_time'] <= current_date]\n",
    "provider_availability_past_30day = provider_availability_past[provider_availability_past['date_time'] >= past_30day]\n",
    "provider_availability_past_90day = provider_availability_past[provider_availability_past['date_time'] >= past_90day]\n",
    "\n",
    "# Time series data\n",
    "apt_avail_ts_data = pd.DataFrame(provider_availability.groupby(['apt_year','apt_month']).count().provider_availability_id)\n",
    "apt_avail_ts_data.index.names = ['year','month']\n",
    "apt_avail_weekly_ts_data = pd.DataFrame(provider_availability.groupby(['apt_year_month_week']).count().provider_availability_id)\n",
    "apt_avail_weekly_ts_data.index = pd.MultiIndex.from_arrays([apt_avail_weekly_ts_data.index.year, \n",
    "                                                            apt_avail_weekly_ts_data.index.month, \n",
    "                                                            apt_avail_weekly_ts_data.index.day], \n",
    "                                                            names=['Year','Month','Week'])\n",
    "\n",
    "# Time series data by provider role\n",
    "aptRole_avail_ts_data = pd.DataFrame(provider_availability.groupby(['apt_year','apt_month','support_role_id']).count().provider_availability_id)\n",
    "aptRole_avail_ts_data = aptRole_avail_ts_data.unstack().fillna(0).provider_availability_id\n",
    "aptRole_avail_ts_data.index.names = ['year','month']\n",
    "\n",
    "aptRole_avail_weekly_ts_data = pd.DataFrame(provider_availability.groupby(['apt_year_month_week', 'support_role_id']).count()).provider_availability_id\n",
    "aptRole_avail_weekly_ts_data = aptRole_avail_weekly_ts_data.unstack().fillna(0)\n",
    "aptRole_avail_weekly_ts_data.index = pd.MultiIndex.from_arrays([aptRole_avail_weekly_ts_data.index.year, \n",
    "                                                      aptRole_avail_weekly_ts_data.index.month, \n",
    "                                                      aptRole_avail_weekly_ts_data.index.day], \n",
    "                                                      names=['Year','Month','Week'])"
   ]
  },
  {
   "cell_type": "markdown",
   "id": "6d35ac75",
   "metadata": {},
   "source": [
    "## Group Sessions"
   ]
  },
  {
   "cell_type": "markdown",
   "id": "730e9e68",
   "metadata": {},
   "source": [
    "### Group Event Type"
   ]
  },
  {
   "cell_type": "code",
   "execution_count": 15,
   "id": "2d30a2fb",
   "metadata": {},
   "outputs": [],
   "source": [
    "group_event_type = get_table_data(reporting_cursor, 'group_event_type')"
   ]
  },
  {
   "cell_type": "markdown",
   "id": "b181f111",
   "metadata": {},
   "source": [
    "### Group Session"
   ]
  },
  {
   "cell_type": "code",
   "execution_count": 16,
   "id": "c2f958f3",
   "metadata": {},
   "outputs": [],
   "source": [
    "# Get group session data\n",
    "group_session = get_table_data(reporting_cursor, 'group_session')"
   ]
  },
  {
   "cell_type": "markdown",
   "id": "639ca60f",
   "metadata": {},
   "source": [
    "### Group Session Requests"
   ]
  },
  {
   "cell_type": "code",
   "execution_count": 17,
   "id": "9f0ed3e9",
   "metadata": {},
   "outputs": [],
   "source": [
    "# Get group session request data\n",
    "group_session_request = get_table_data(reporting_cursor, 'group_session_request')"
   ]
  },
  {
   "cell_type": "markdown",
   "id": "836681e8",
   "metadata": {},
   "source": [
    "### Group Session Request Status"
   ]
  },
  {
   "cell_type": "code",
   "execution_count": 18,
   "id": "22c5818f",
   "metadata": {},
   "outputs": [],
   "source": [
    "group_session_request_status = get_table_data(reporting_cursor, 'group_session_request_status')"
   ]
  },
  {
   "cell_type": "markdown",
   "id": "529335cd",
   "metadata": {},
   "source": [
    "### Group Session Reservations"
   ]
  },
  {
   "cell_type": "code",
   "execution_count": 19,
   "id": "d231c8f6",
   "metadata": {},
   "outputs": [],
   "source": [
    "# Get group session reservation data\n",
    "group_session_reservation = get_table_data(reporting_cursor, 'group_session_reservation')"
   ]
  },
  {
   "cell_type": "markdown",
   "id": "79151784",
   "metadata": {},
   "source": [
    "### Group Session Response"
   ]
  },
  {
   "cell_type": "code",
   "execution_count": 20,
   "id": "a3b242a7",
   "metadata": {},
   "outputs": [],
   "source": [
    "group_session_response = get_table_data(reporting_cursor, 'group_session_response')"
   ]
  },
  {
   "cell_type": "markdown",
   "id": "7eff8b2f",
   "metadata": {},
   "source": [
    "### Group Session Scheduling System"
   ]
  },
  {
   "cell_type": "code",
   "execution_count": 21,
   "id": "9c9f8512",
   "metadata": {},
   "outputs": [],
   "source": [
    "group_session_scheduling_system = get_table_data(reporting_cursor, 'group_session_scheduling_system')"
   ]
  },
  {
   "cell_type": "markdown",
   "id": "c911907e",
   "metadata": {},
   "source": [
    "### Group Session Status"
   ]
  },
  {
   "cell_type": "code",
   "execution_count": 22,
   "id": "c5c5c95e",
   "metadata": {},
   "outputs": [],
   "source": [
    "group_session_status = get_table_data(reporting_cursor, 'group_session_status')"
   ]
  },
  {
   "cell_type": "markdown",
   "id": "94f5d25a",
   "metadata": {},
   "source": [
    "### Group Session System"
   ]
  },
  {
   "cell_type": "code",
   "execution_count": 23,
   "id": "a8a891ba",
   "metadata": {},
   "outputs": [],
   "source": [
    "group_session_system = get_table_data(reporting_cursor, 'group_session_system')"
   ]
  },
  {
   "cell_type": "markdown",
   "id": "29092ed6",
   "metadata": {},
   "source": [
    "## Assessments"
   ]
  },
  {
   "cell_type": "markdown",
   "id": "601b40a0",
   "metadata": {},
   "source": [
    "### Assessment"
   ]
  },
  {
   "cell_type": "code",
   "execution_count": 24,
   "id": "c8719904",
   "metadata": {},
   "outputs": [],
   "source": [
    "# Get assessment data\n",
    "assessment = get_table_data(reporting_cursor, 'assessment')\n",
    "assessment_dict = dict(zip(assessment.assessment_id, assessment.assessment_type_id))\n",
    "\n",
    "# Assessment IDs\n",
    "PHQ4_id = assessment[assessment['assessment_type_id']=='PHQ4'].assessment_id.values[0]\n",
    "PHQ9_id = assessment[assessment['assessment_type_id']=='PHQ9'].assessment_id.values[0]\n",
    "GAD7_id = assessment[assessment['assessment_type_id']=='GAD7'].assessment_id.values[0]\n",
    "PCPTSD_id = assessment[assessment['assessment_type_id']=='PCPTSD'].assessment_id.values[0]\n",
    "RCT_ids = assessment[(assessment['assessment_type_id']=='PHQ9') | (assessment['assessment_type_id']=='GAD7')].assessment_id.values"
   ]
  },
  {
   "cell_type": "markdown",
   "id": "d7586a5a",
   "metadata": {},
   "source": [
    "### Assessment Type"
   ]
  },
  {
   "cell_type": "code",
   "execution_count": 25,
   "id": "8ea57a61",
   "metadata": {},
   "outputs": [],
   "source": [
    "# Get assessment type data\n",
    "assessment_type = get_table_data(reporting_cursor, 'assessment_type')"
   ]
  },
  {
   "cell_type": "markdown",
   "id": "7486d952",
   "metadata": {},
   "source": [
    "### Answer"
   ]
  },
  {
   "cell_type": "code",
   "execution_count": 26,
   "id": "605093bb",
   "metadata": {
    "scrolled": true
   },
   "outputs": [],
   "source": [
    "# Get answer data\n",
    "answer = get_table_data(reporting_cursor, 'answer')"
   ]
  },
  {
   "cell_type": "markdown",
   "id": "a2198be1",
   "metadata": {},
   "source": [
    "### Answer Category"
   ]
  },
  {
   "cell_type": "code",
   "execution_count": 27,
   "id": "fc87d8f7",
   "metadata": {},
   "outputs": [],
   "source": [
    "# Get answer category data\n",
    "answer_category = get_table_data(reporting_cursor, 'answer_category')"
   ]
  },
  {
   "cell_type": "markdown",
   "id": "fcba3404",
   "metadata": {},
   "source": [
    "### Category"
   ]
  },
  {
   "cell_type": "code",
   "execution_count": 28,
   "id": "0451f986",
   "metadata": {},
   "outputs": [],
   "source": [
    "# Get category data\n",
    "category = get_table_data(reporting_cursor, 'category')"
   ]
  },
  {
   "cell_type": "markdown",
   "id": "c79954dd",
   "metadata": {},
   "source": [
    "### Question\n",
    "* overlapping phq4 questions excluded from phq9 and gad7"
   ]
  },
  {
   "cell_type": "code",
   "execution_count": 29,
   "id": "8770ad73",
   "metadata": {},
   "outputs": [],
   "source": [
    "# Get question data\n",
    "question = get_table_data(reporting_cursor, 'question')\n",
    "question_text_dict = dict(zip(question.question_id, question.question_text))\n",
    "\n",
    "\n",
    "# Adjust columns\n",
    "question['assessment_name'] = question['assessment_id'].map(assessment_dict)\n",
    "\n",
    "# Get corrected assessment question lists\n",
    "PHQ4_questions = question[question['assessment_id']==PHQ4_id].question_id.values\n",
    "\n",
    "PHQ9_q1q2 = question[question['assessment_id']==PHQ4_id].loc[[20,19],'question_id'].to_list()\n",
    "PHQ9_q3q9 = question[question['assessment_id']==PHQ9_id].question_id.to_list()\n",
    "PHQ9_questions = PHQ9_q1q2 + PHQ9_q3q9\n",
    "\n",
    "GAD7_q1q2 = question[question['assessment_id']==PHQ4_id].loc[[17,18],'question_id'].to_list()\n",
    "GAD7_q3q7 = question[question['assessment_id']==GAD7_id].question_id.to_list()\n",
    "GAD7_questions = GAD7_q1q2 + GAD7_q3q7\n",
    "\n",
    "PCPTSD_questions = question[question['assessment_id']==PCPTSD_id].question_id.values\n",
    "\n",
    "RCT_questions = PHQ9_questions + GAD7_questions"
   ]
  },
  {
   "cell_type": "markdown",
   "id": "36424f8e",
   "metadata": {},
   "source": [
    "### Question Type"
   ]
  },
  {
   "cell_type": "code",
   "execution_count": 30,
   "id": "ccfb02b5",
   "metadata": {},
   "outputs": [],
   "source": [
    "# Get question type data\n",
    "question_type = get_table_data(reporting_cursor, 'question_type')"
   ]
  },
  {
   "cell_type": "markdown",
   "id": "e7b50a0d",
   "metadata": {},
   "source": [
    "## Activity and Content"
   ]
  },
  {
   "cell_type": "markdown",
   "id": "b721dac3",
   "metadata": {},
   "source": [
    "### Content"
   ]
  },
  {
   "cell_type": "code",
   "execution_count": 31,
   "id": "b778f784",
   "metadata": {},
   "outputs": [],
   "source": [
    "# Get content data\n",
    "content = get_table_data(reporting_cursor, 'content')\n",
    "\n",
    "# Filter for relevant data\n",
    "content = content[content['owner_institution_id']=='PENN']"
   ]
  },
  {
   "cell_type": "markdown",
   "id": "c83a95fe",
   "metadata": {},
   "source": [
    "### Activity Tracking\n",
    "* To find the content users are consuming: activity_tracking.activity_key --> content.content_id (DEPRECATED - 01/11/2022)\n",
    "* content[content['content_id']=='0e997dda-15e1-446c-bcda-bea3a2271c60']"
   ]
  },
  {
   "cell_type": "code",
   "execution_count": 32,
   "id": "4e30494d",
   "metadata": {},
   "outputs": [],
   "source": [
    "# Get activity tracking data\n",
    "activity_tracking = get_table_data(reporting_cursor, 'activity_tracking')\n",
    "\n",
    "# Filter for relevant data\n",
    "activity_tracking = activity_tracking[activity_tracking['account_id'].isin(account['account_id'])]\n",
    "\n",
    "# Activity tracking subsets\n",
    "activity_tracking_past = activity_tracking[activity_tracking['created'] <= current_date]\n",
    "activity_tracking_past_30day = activity_tracking_past[activity_tracking_past['created'] >= past_30day]\n",
    "activity_tracking_past_90day = activity_tracking_past[activity_tracking_past['created'] >= past_90day]"
   ]
  },
  {
   "cell_type": "markdown",
   "id": "d51611f9",
   "metadata": {},
   "source": [
    "### Popular Content\n",
    "* Ordered by view_count for last 30 days"
   ]
  },
  {
   "cell_type": "code",
   "execution_count": 33,
   "id": "f796cf2e",
   "metadata": {},
   "outputs": [],
   "source": [
    "popular_content_use_cols = ['content_id','created','content_type_id','title','description','author','duration_in_minutes','view_count']"
   ]
  },
  {
   "cell_type": "code",
   "execution_count": 34,
   "id": "d69ba07b",
   "metadata": {},
   "outputs": [],
   "source": [
    "# Get content activity for last 30 days\n",
    "content_activity_past_30day = activity_tracking_past_30day[activity_tracking_past_30day['activity_type_id']=='CONTENT'].copy()\n",
    "content_activity_past_30day.loc[:,'context'] = content_activity_past_30day['context'].apply(lambda x: x['contentId']).copy()"
   ]
  },
  {
   "cell_type": "code",
   "execution_count": 35,
   "id": "c785c211",
   "metadata": {},
   "outputs": [],
   "source": [
    "# Get content view counts\n",
    "popular_content_past_30day = content_activity_past_30day.groupby(['context'])[['activity_tracking_id']].count()\n",
    "popular_content_past_30day = popular_content_past_30day.rename(columns={'activity_tracking_id':'view_count'})\n",
    "popular_content_past_30day = content.merge(popular_content_past_30day, how='inner', left_on='content_id', right_index=True)\n",
    "\n",
    "# popular content\n",
    "popular_content_past_30day = popular_content_past_30day.sort_values(['view_count'], ascending=False)[popular_content_use_cols].reset_index(drop=True)\n",
    "popular_content_past_30day.to_csv(CHART_PATH + 'popular_content_past_30day_' + str(datetime.datetime.now().date()).replace('-','') + '.csv')\n",
    "\n",
    "# popular content grouped by type\n",
    "popular_content_past_30day_grouped = popular_content_past_30day.sort_values(['content_type_id','view_count'], ascending=False)[popular_content_use_cols].reset_index(drop=True)\n",
    "popular_content_past_30day_grouped.to_csv(CHART_PATH + 'popular_content_past_30day_grouped_' + str(datetime.datetime.now().date()).replace('-','') + '.csv')"
   ]
  },
  {
   "cell_type": "markdown",
   "id": "e781833f",
   "metadata": {},
   "source": [
    "#### Content Summary"
   ]
  },
  {
   "cell_type": "code",
   "execution_count": 36,
   "id": "dfa7b441",
   "metadata": {},
   "outputs": [],
   "source": [
    "# content summary\n",
    "popular_content_past_30day_summary = pd.concat([popular_content_past_30day.groupby(['content_type_id'])['view_count'].count(),\n",
    "                                     popular_content_past_30day.groupby(['content_type_id'])['view_count'].sum()], axis=1)\n",
    "popular_content_past_30day_summary.columns = ['content_count', 'view_count']\n",
    "popular_content_past_30day_summary['views_per_content'] = popular_content_past_30day_summary['view_count']/popular_content_past_30day_summary['content_count']\n",
    "popular_content_past_30day_summary.to_csv(CHART_PATH + 'popular_content_past_30day_summary' + str(datetime.datetime.now().date()).replace('-','') + '.csv')"
   ]
  },
  {
   "cell_type": "markdown",
   "id": "314fbb3f",
   "metadata": {},
   "source": [
    "## Account Sessions"
   ]
  },
  {
   "cell_type": "markdown",
   "id": "003627ec",
   "metadata": {},
   "source": [
    "### Account Session"
   ]
  },
  {
   "cell_type": "code",
   "execution_count": 37,
   "id": "cae9e74e",
   "metadata": {},
   "outputs": [],
   "source": [
    "# Get account session data\n",
    "account_session = get_table_data(reporting_cursor, 'account_session')\n",
    "\n",
    "# Filter for relevant data\n",
    "account_session = account_session[account_session['account_id'].isin(account['account_id'])]\n",
    "\n",
    "# Adjust columns\n",
    "account_session['assessment_name'] = account_session['assessment_id'].map(assessment_dict)"
   ]
  },
  {
   "cell_type": "markdown",
   "id": "c930672d",
   "metadata": {},
   "source": [
    "### Account Session Answer"
   ]
  },
  {
   "cell_type": "code",
   "execution_count": 38,
   "id": "131dfcf4",
   "metadata": {},
   "outputs": [],
   "source": [
    "# Get account session answer data\n",
    "account_session_answer = get_table_data(reporting_cursor, 'account_session_answer')\n",
    "\n",
    "# Merge account session and account session answer on account_session_id\n",
    "account_session_answer = account_session_answer.merge(account_session, how='inner', \n",
    "                                                             left_on='account_session_id', \n",
    "                                                             right_on='account_session_id',\n",
    "                                                             suffixes=['_session_answer','_session'])\n",
    "use_cols = ['account_session_answer_id','account_session_id','account_id','assessment_id','answer_id',\n",
    "            'complete_flag','created_session_answer','created_session']\n",
    "account_session_answer = account_session_answer[use_cols]\n",
    "account_session_answer['assessment_name'] = account_session_answer['assessment_id'].map(assessment_dict)\n",
    "\n",
    "# Merge account session answer and account account_id\n",
    "use_cols = ['account_id','account_source_id','sso_id','first_name','last_name','email_address','phone_number','created']\n",
    "account_merge = account[use_cols].copy()\n",
    "account_merge = account_merge.rename(columns={'created':'created_account'})\n",
    "account_session_answer = account_session_answer.merge(account_merge,how='inner',left_on='account_id',right_on='account_id')\n",
    "\n",
    "# Merge account session answer and answer on answer_id\n",
    "use_cols = ['answer_id','question_id','answer_text','display_order','answer_value','crisis','call']\n",
    "answer_merge = answer[use_cols].copy()\n",
    "account_session_answer = account_session_answer.merge(answer_merge,how='inner',left_on='answer_id', right_on='answer_id')"
   ]
  },
  {
   "cell_type": "markdown",
   "id": "e56c7c2f",
   "metadata": {},
   "source": [
    "# Derived Data"
   ]
  },
  {
   "cell_type": "markdown",
   "id": "4c3e4f16",
   "metadata": {},
   "source": [
    "## Account Instance"
   ]
  },
  {
   "cell_type": "code",
   "execution_count": 68,
   "id": "a4904759",
   "metadata": {},
   "outputs": [],
   "source": [
    "account_instance = pd.read_csv(DATA_PATH + 'account_instance_master_20230102.csv', index_col=0)\n",
    "account_instance['complete_time'] = pd.to_datetime(account_instance['complete_time']).dt.tz_convert(tz=COBALT_TZ)"
   ]
  },
  {
   "cell_type": "markdown",
   "id": "365906fb",
   "metadata": {},
   "source": [
    "## Unused / Deprecated Code"
   ]
  },
  {
   "cell_type": "code",
   "execution_count": 40,
   "id": "c4fde2ae",
   "metadata": {},
   "outputs": [
    {
     "data": {
      "text/plain": [
       "\"\\n\\ngroup_session.sort_values('start_date_time', ascending=False).groupby([group_session['start_date_time'].dt.year,group_session['start_date_time'].dt.month]).count()[['group_session_id']]\\n\\n\""
      ]
     },
     "execution_count": 40,
     "metadata": {},
     "output_type": "execute_result"
    }
   ],
   "source": [
    "\"\"\"\n",
    "\n",
    "group_session.sort_values('start_date_time', ascending=False).groupby([group_session['start_date_time'].dt.year,group_session['start_date_time'].dt.month]).count()[['group_session_id']]\n",
    "\n",
    "\"\"\""
   ]
  },
  {
   "cell_type": "code",
   "execution_count": null,
   "id": "bae74646",
   "metadata": {},
   "outputs": [],
   "source": []
  },
  {
   "cell_type": "code",
   "execution_count": null,
   "id": "3ccf5a3a",
   "metadata": {},
   "outputs": [],
   "source": []
  }
 ],
 "metadata": {
  "kernelspec": {
   "display_name": "Python [conda env:base] *",
   "language": "python",
   "name": "conda-base-py"
  },
  "language_info": {
   "codemirror_mode": {
    "name": "ipython",
    "version": 3
   },
   "file_extension": ".py",
   "mimetype": "text/x-python",
   "name": "python",
   "nbconvert_exporter": "python",
   "pygments_lexer": "ipython3",
   "version": "3.11.8"
  }
 },
 "nbformat": 4,
 "nbformat_minor": 5
}
