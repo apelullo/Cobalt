{
 "cells": [
  {
   "cell_type": "markdown",
   "metadata": {},
   "source": [
    "# Cobalt Class and Function Definitions\n",
    "* Define classes and functions needed for analysis and reporting"
   ]
  },
  {
   "cell_type": "code",
   "execution_count": 1,
   "metadata": {},
   "outputs": [],
   "source": [
    "# Modules\n",
    "from cobalt_parameters import *\n",
    "\n",
    "import pandas as pd\n",
    "import numpy as np\n",
    "\n",
    "import re\n",
    "import datetime\n",
    "from collections import defaultdict\n",
    "\n",
    "import glob\n",
    "import os\n",
    "import psycopg2\n",
    "from sqlalchemy import create_engine\n",
    "\n",
    "import matplotlib.pyplot as plt\n",
    "import matplotlib.dates as mdates\n",
    "import seaborn as sns; "
   ]
  },
  {
   "cell_type": "markdown",
   "metadata": {},
   "source": [
    "# Class Definitions"
   ]
  },
  {
   "cell_type": "code",
   "execution_count": 2,
   "metadata": {},
   "outputs": [],
   "source": [
    "class color:\n",
    "   PURPLE = '\\033[95m'\n",
    "   CYAN = '\\033[96m'\n",
    "   DARKCYAN = '\\033[36m'\n",
    "   BLUE = '\\033[94m'\n",
    "   GREEN = '\\033[92m'\n",
    "   YELLOW = '\\033[93m'\n",
    "   RED = '\\033[91m'\n",
    "   BOLD = '\\033[1m'\n",
    "   UNDERLINE = '\\033[4m'\n",
    "   END = '\\033[0m'"
   ]
  },
  {
   "cell_type": "markdown",
   "metadata": {},
   "source": [
    "# Function Definitions"
   ]
  },
  {
   "cell_type": "code",
   "execution_count": 3,
   "metadata": {},
   "outputs": [],
   "source": [
    "def database_connect():\n",
    "    # Read-only database connection\n",
    "    conn = psycopg2.connect(database=DB_NAME, user=DB_USER, password=DB_PASSWORD, host=DB_HOST, port= '5432')\n",
    "    conn.autocommit = True\n",
    "    cursor = conn.cursor()\n",
    "\n",
    "    # Reporting database connection\n",
    "    reporting_conn = psycopg2.connect(database=DB_REPORTING_NAME, user=DB_REPORTING_USER, password=DB_REPORTING_PASSWORD, host=DB_REPORTING_HOST, port= '5432')\n",
    "    reporting_conn.autocommit = True\n",
    "    reporting_cursor = reporting_conn.cursor()\n",
    "    \n",
    "    return cursor,reporting_cursor"
   ]
  },
  {
   "cell_type": "code",
   "execution_count": 4,
   "metadata": {},
   "outputs": [],
   "source": [
    "def get_table_data(db_cursor, table_name, limit='ALL'):\n",
    "    # check user input - allows string or numeric input (may change to string only to simpllify error checking)\n",
    "    if type(limit) == str: \n",
    "        if limit != 'ALL':\n",
    "            try:\n",
    "                int(limit)\n",
    "            except:\n",
    "                print(\"Please enter an integer value for limit.\")\n",
    "                return\n",
    "    elif type(limit) == int:\n",
    "        limit = str(limit)\n",
    "    else:\n",
    "        print(\"Please enter an integer value for limit.\")\n",
    "        return\n",
    "    \n",
    "    query = \"\"\"SELECT * FROM \"\"\" + table_name + \"\"\" LIMIT \"\"\" + limit + \"\"\";\"\"\"\n",
    "    db_cursor.execute(query)\n",
    "    result = db_cursor.fetchall()\n",
    "    colnames = [desc[0] for desc in db_cursor.description]\n",
    "    dataframe = pd.DataFrame(result, columns=colnames)\n",
    "    \n",
    "    return dataframe"
   ]
  },
  {
   "cell_type": "code",
   "execution_count": 5,
   "metadata": {},
   "outputs": [],
   "source": [
    "def get_date_str(date, formatted=False):\n",
    "    year = str(date.year)\n",
    "    month = str(date.month)\n",
    "    if len(month)==1:\n",
    "        month = '0'+month\n",
    "    day = str(date.day)\n",
    "    if len(day)==1:\n",
    "        day = '0'+day\n",
    "        \n",
    "    if formatted:\n",
    "        date = year+'/'+month+'/'+day\n",
    "    else:\n",
    "        date = year+month+day\n",
    "    return date"
   ]
  },
  {
   "cell_type": "code",
   "execution_count": 6,
   "metadata": {},
   "outputs": [],
   "source": [
    "def get_ts_xlabels(index, time): \n",
    "    xlabels = []\n",
    "    if type(index) == pd.MultiIndex:\n",
    "        if time == 'weekly':\n",
    "            for item in index:\n",
    "                year = str(item[0])\n",
    "                month = str(item[1])\n",
    "                if len(month) == 1:\n",
    "                    month = '0' + month\n",
    "                day = str(item[2])\n",
    "                if len(day) == 1:\n",
    "                    day = '0' + day\n",
    "                xlabels.append(year + '-' + month + '-' + day)\n",
    "        if time == 'monthly':\n",
    "            xlabels = [month_dict[item[1]] + '\\n' + str(item[0]) for item in index]\n",
    "    return xlabels"
   ]
  },
  {
   "cell_type": "code",
   "execution_count": 7,
   "metadata": {},
   "outputs": [],
   "source": [
    "def get_appointment_heatmap(data, apt_type, grouping, date_col, id_col, date_offset=0, save_fig=False):\n",
    "    day_names = ['Monday','Tuesday','Wednesday','Thursday','Friday','Saturday','Sunday',]\n",
    "    day_names_dict = dict({0:'Monday',1:'Tuesday',2:'Wednesday',3:'Thursday',4:'Friday',5:'Saturday',6:'Sunday'})\n",
    "    \n",
    "    # Set date range and filename\n",
    "    if date_offset < 0: # past\n",
    "        data = data[(data[date_col] >= pd.to_datetime(datetime.datetime.now() + pd.Timedelta(days=date_offset)).tz_localize(tz='US/Eastern')) & \n",
    "                    (data[date_col] <= pd.to_datetime(datetime.datetime.now()).tz_localize(tz='US/Eastern'))]\n",
    "        filename = apt_type + '_appointment_' + grouping + '_last' + str(abs(date_offset)) + 'days_'\n",
    "        offset_title = 'Last ' + str(abs(date_offset)) + ' Days'\n",
    "    elif date_offset > 0: # future\n",
    "        data = data[(data[date_col] <= pd.to_datetime(datetime.datetime.now() + pd.Timedelta(days=date_offset)).tz_localize(tz='US/Eastern')) & \n",
    "                    (data[date_col] >= pd.to_datetime(datetime.datetime.now()).tz_localize(tz='US/Eastern'))]\n",
    "        filename = apt_type + '_appointment_' + grouping + '_next' + str(date_offset) + 'days_'\n",
    "        offset_title = 'Next ' + str(date_offset) + ' Days'\n",
    "    else: \n",
    "        filename = apt_type + '_appointment_' + grouping + '_allTime_'\n",
    "        offset_title = 'All Time'\n",
    "    \n",
    "    # Prep figure data and labels\n",
    "    data = data.groupby([grouping,'support_role_id']).count()[id_col]\n",
    "    data = data.unstack().fillna(0)\n",
    "    data = data.transpose()\n",
    "    \n",
    "    if grouping == 'dayofweek':\n",
    "        data.columns = [day_names_dict[item] for item in data.columns]\n",
    "        grouping_title = 'Day of Week'\n",
    "    elif grouping == 'hourofday':\n",
    "        grouping_title = 'Hour of Day'\n",
    "        \n",
    "    # Plot\n",
    "    fig, ax = plt.subplots(figsize=(16,8)) \n",
    "    sns.heatmap(data, annot=True, linewidths=.5, ax=ax)\n",
    "    ax.set_title(apt_type.capitalize() + ' Appointments by ' + grouping_title + ': ' + offset_title, fontsize=18)\n",
    "    \n",
    "    if save_fig:\n",
    "        save_figure(fig, FIGURE_PATH, filename)"
   ]
  },
  {
   "cell_type": "code",
   "execution_count": 8,
   "metadata": {},
   "outputs": [],
   "source": [
    "def save_figure(fig, path, filename):\n",
    "    name = path + filename + str(datetime.datetime.now().date()).replace('-','') + '.png'\n",
    "    fig.savefig(name, bbox_inches='tight', pad_inches=0, dpi=SAVE_DPI, transparent=True)"
   ]
  },
  {
   "cell_type": "code",
   "execution_count": 9,
   "metadata": {},
   "outputs": [],
   "source": [
    "def get_appt_provider_role(row):\n",
    "    ambiguous_appt_names = ['Initial Visit','Followup Visit','Return Visit']\n",
    "    ambiguous_appt_names_roles = ['CLINICIAN','PSYCHIATRIST']\n",
    "    appt_type_name = row['appointment_type_name']\n",
    "    provider_id = row['provider_id']\n",
    "    \n",
    "    if appt_type_name in appt_provider_role_dict.keys():\n",
    "        appt_role = appt_provider_role_dict[appt_type_name]\n",
    "    elif appt_type_name in ambiguous_appt_names:\n",
    "        appt_role = provider_support_role[(provider_support_role['provider_id']==provider_id) & \n",
    "                                          (provider_support_role['support_role_id'].isin(ambiguous_appt_names_roles))].support_role_id.values[0]\n",
    "    else:\n",
    "        appt_role = 'UNDEFINED'\n",
    "    \n",
    "    \n",
    "    return appt_role"
   ]
  },
  {
   "cell_type": "code",
   "execution_count": 10,
   "metadata": {},
   "outputs": [],
   "source": [
    "def get_appt_provider_role_df(data, provider_support_role):    \n",
    "    mult_role = provider_support_role.groupby(['provider_id']).filter(lambda x: len(x)>1)\n",
    "    mult_role_provID = mult_role.provider_id.unique()\n",
    "\n",
    "    appt_single_role = data[~data['provider_id'].isin(mult_role_provID)].copy()\n",
    "    appt_mult_role = data[data['provider_id'].isin(mult_role_provID)].copy()\n",
    "\n",
    "    appt_single_role = appt_single_role.merge(provider_support_role, how='inner', left_on='provider_id', right_on='provider_id')\n",
    "    appt_mult_role['support_role_id'] = appt_mult_role.apply(lambda x: get_appt_provider_role(x), axis=1)\n",
    "\n",
    "    data = pd.concat([appt_single_role,appt_mult_role]).sort_index()\n",
    "\n",
    "    return data"
   ]
  },
  {
   "cell_type": "code",
   "execution_count": null,
   "metadata": {},
   "outputs": [],
   "source": []
  },
  {
   "cell_type": "code",
   "execution_count": null,
   "metadata": {},
   "outputs": [],
   "source": []
  }
 ],
 "metadata": {
  "kernelspec": {
   "display_name": "Python 3",
   "language": "python",
   "name": "python3"
  },
  "language_info": {
   "codemirror_mode": {
    "name": "ipython",
    "version": 3
   },
   "file_extension": ".py",
   "mimetype": "text/x-python",
   "name": "python",
   "nbconvert_exporter": "python",
   "pygments_lexer": "ipython3",
   "version": "3.7.7"
  }
 },
 "nbformat": 4,
 "nbformat_minor": 4
}
