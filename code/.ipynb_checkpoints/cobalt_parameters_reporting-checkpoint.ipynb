{
 "cells": [
  {
   "cell_type": "markdown",
   "metadata": {},
   "source": [
    "# Cobalt Program Parameters\n",
    "* Constants, paths, and other parameters neeeded for analysis and reporting"
   ]
  },
  {
   "cell_type": "code",
   "execution_count": null,
   "metadata": {},
   "outputs": [],
   "source": [
    "# Modules\n",
    "import pandas as pd\n",
    "import datetime"
   ]
  },
  {
   "cell_type": "markdown",
   "metadata": {},
   "source": [
    "# Program Parameters"
   ]
  },
  {
   "cell_type": "code",
   "execution_count": 2,
   "metadata": {},
   "outputs": [],
   "source": [
    "# Constants\n",
    "DB_NAME = 'cobalt'\n",
    "DB_USER = 'cobalt_readonly'\n",
    "DB_PASSWORD = 'd7vVLuZna9jmSQtR'\n",
    "DB_HOST = 'penncobalt-prod-rds-postgres.cluster-cklm1mqpdoiw.us-east-2.rds.amazonaws.com'\n",
    "\n",
    "DB_REPORTING_NAME = 'cobalt'\n",
    "DB_REPORTING_USER = 'cobalt_reporting'\n",
    "DB_REPORTING_PASSWORD = 'JzeMBncawrkjsC6Q'\n",
    "DB_REPORTING_HOST = 'penncobalt-prod-rds-postgres.cluster-cklm1mqpdoiw.us-east-2.rds.amazonaws.com'\n",
    "DB_REPORTING_MONTHLY_NAME = 'reporting_monthly_rollup'\n",
    "DB_REPORTING_WEEKLY_NAME = 'reporting_weekly_rollup'\n",
    "\n",
    "SAVE_DPI = 500\n",
    "ACTIVE_COUNT = 25\n",
    "APT_MONTHLY_YMAX = 300\n",
    "APT_WEEKLY_YMAX = 100"
   ]
  },
  {
   "cell_type": "code",
   "execution_count": 3,
   "metadata": {},
   "outputs": [],
   "source": [
    "# Paths\n",
    "PROJECT_PATH = '/Users/apelullo/Desktop/CDH/projects/cobalt/operations/'\n",
    "\n",
    "DATA_PATH = PROJECT_PATH + 'data/'\n",
    "MASTER_DATA_PATH = DATA_PATH + 'master_data/'\n",
    "RAW_DATA_PATH = DATA_PATH + 'raw_data/'\n",
    "\n",
    "OUTPUT_PATH = PROJECT_PATH + 'output/'\n",
    "FIGURE_PATH = OUTPUT_PATH + 'figures/'\n",
    "CHART_PATH = OUTPUT_PATH + 'charts/'\n",
    "\n",
    "LOG_PATH = PROJECT_PATH + 'logs/'\n",
    "BACKEND_ISSUES_PATH = LOG_PATH + 'backend_issues/'"
   ]
  },
  {
   "cell_type": "code",
   "execution_count": 4,
   "metadata": {},
   "outputs": [],
   "source": [
    "# Collections\n",
    "month_dict = dict({1:'Jan', 2:'Feb', 3:'Mar', 4:'Apr', 5:'May', 6:'Jun', \n",
    "                   7:'Jul', 8:'Aug', 9:'Sep', 10:'Oct', 11:'Nov', 12:'Dec',})\n",
    "\n",
    "account_exclude_list = ['15d75000-a6b9-48d0-baa1-3e6acc9dd00e','8455d3fa-55b1-425d-9078-bf129a319e32']\n",
    "\n",
    "appt_provider_role_dict = dict({'The Chaplain is In - for You':'CHAPLAIN',\n",
    "                                '1:1 Session with Chaplain':'CHAPLAIN',\n",
    "                                '1:1 with Peer':'PEER',\n",
    "                                '1:1 Session with Resilience Coach':'COACH',\n",
    "                                '1:1 with Care Manager':'CARE_MANAGER',\n",
    "                                '1:1 Initial Appointment with Psychotherapist':'CLINICIAN','1:1 CTSA Intake Appointment':'CLINICIAN','1:1 Appointment with Psychotherapist':'CLINICIAN','CCT Intake Appointment':'CLINICIAN',\n",
    "                                '1:1 Session with Psychiatrist':'PSYCHIATRIST','1:1 Psychiatrist Follow-ups':'PSYCHIATRIST','1:1 with Psychiatric Nurse Practitioner':'PSYCHIATRIST','1:1 Psych NP Follow-Up':'PSYCHIATRIST',\n",
    "                                '1:1 with Dietitian':'OTHER','1:1 Session with Exercise Physiologist':'OTHER','1:1 Strength and Training Specialist':'OTHER','1:1 with Pain Specialist':'OTHER',})"
   ]
  },
  {
   "cell_type": "code",
   "execution_count": 5,
   "metadata": {},
   "outputs": [],
   "source": [
    "# Date offsets\n",
    "current_date = pd.to_datetime(datetime.datetime.now() - pd.Timedelta(days=1)).tz_localize(tz='US/Eastern')\n",
    "future_30day = pd.to_datetime(datetime.datetime.now() + pd.Timedelta(days=30)).tz_localize(tz='US/Eastern')\n",
    "future_90day = pd.to_datetime(datetime.datetime.now() + pd.Timedelta(days=90)).tz_localize(tz='US/Eastern')\n",
    "past_30day = pd.to_datetime(datetime.datetime.now() - pd.Timedelta(days=30)).tz_localize(tz='US/Eastern')\n",
    "past_90day = pd.to_datetime(datetime.datetime.now() - pd.Timedelta(days=90)).tz_localize(tz='US/Eastern')"
   ]
  },
  {
   "cell_type": "code",
   "execution_count": null,
   "metadata": {},
   "outputs": [],
   "source": []
  },
  {
   "cell_type": "code",
   "execution_count": null,
   "metadata": {},
   "outputs": [],
   "source": []
  }
 ],
 "metadata": {
  "kernelspec": {
   "display_name": "Python 3",
   "language": "python",
   "name": "python3"
  },
  "language_info": {
   "codemirror_mode": {
    "name": "ipython",
    "version": 3
   },
   "file_extension": ".py",
   "mimetype": "text/x-python",
   "name": "python",
   "nbconvert_exporter": "python",
   "pygments_lexer": "ipython3",
   "version": "3.7.7"
  }
 },
 "nbformat": 4,
 "nbformat_minor": 4
}
