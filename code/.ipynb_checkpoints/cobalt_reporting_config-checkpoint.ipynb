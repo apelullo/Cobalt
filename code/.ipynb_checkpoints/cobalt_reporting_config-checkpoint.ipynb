{
 "cells": [
  {
   "cell_type": "markdown",
   "metadata": {},
   "source": [
    "# Cobalt Reporting Config\n",
    "* Institution-level configuration - modify according to specific institutional and reporting requirements"
   ]
  },
  {
   "cell_type": "markdown",
   "metadata": {},
   "source": [
    "## Platform Institution"
   ]
  },
  {
   "cell_type": "code",
   "execution_count": 1,
   "metadata": {},
   "outputs": [],
   "source": [
    "INSTITUTION_ID = 'PENN'\n",
    "COBALT_START_DATE = '2020/04/09'\n",
    "COBALT_TZ = 'US/Eastern'"
   ]
  },
  {
   "cell_type": "markdown",
   "metadata": {},
   "source": [
    "## Database Connection"
   ]
  },
  {
   "cell_type": "code",
   "execution_count": 2,
   "metadata": {},
   "outputs": [],
   "source": [
    "# Read-only\n",
    "DB_NAME = 'cobalt'\n",
    "DB_USER = 'cobalt_readonly'\n",
    "DB_PASSWORD = 'd7vVLuZna9jmSQtR'\n",
    "DB_HOST = 'penncobalt-prod-rds-postgres.cluster-cklm1mqpdoiw.us-east-2.rds.amazonaws.com'\n",
    "\n",
    "# Read and write \n",
    "DB_REPORTING_NAME = 'cobalt'\n",
    "DB_REPORTING_USER = 'cobalt_reporting'\n",
    "DB_REPORTING_PASSWORD = 'JzeMBncawrkjsC6Q'\n",
    "DB_REPORTING_HOST = 'penncobalt-prod-rds-postgres.cluster-cklm1mqpdoiw.us-east-2.rds.amazonaws.com'\n",
    "DB_REPORTING_MONTHLY_NAME = 'reporting_monthly_rollup'\n",
    "DB_REPORTING_WEEKLY_NAME = 'reporting_weekly_rollup'"
   ]
  },
  {
   "cell_type": "markdown",
   "metadata": {},
   "source": [
    "## Save Paths"
   ]
  },
  {
   "cell_type": "code",
   "execution_count": 3,
   "metadata": {},
   "outputs": [],
   "source": [
    "# Paths\n",
    "PROJECT_PATH = '/Users/apelullo/Desktop/CDH/projects/cobalt/operations/'\n",
    "\n",
    "DATA_PATH = PROJECT_PATH + 'data/'\n",
    "RAW_DATA_PATH = DATA_PATH + 'raw_data/'\n",
    "MASTER_DATA_PATH = DATA_PATH + 'master_data/'\n",
    "TS_DATA_PATH = DATA_PATH + 'ts_data/'\n",
    "SANKEY_DATA_PATH = DATA_PATH + 'sankey_data/'\n",
    "\n",
    "OUTPUT_PATH = PROJECT_PATH + 'output/'\n",
    "FIGURE_PATH = OUTPUT_PATH + 'figures/'\n",
    "CHART_PATH = OUTPUT_PATH + 'charts/'\n",
    "\n",
    "LOG_PATH = PROJECT_PATH + 'logs/'\n",
    "BACKEND_ISSUES_PATH = LOG_PATH + 'backend_issues/'"
   ]
  },
  {
   "cell_type": "markdown",
   "metadata": {},
   "source": [
    "## Custom Data Filtering"
   ]
  },
  {
   "cell_type": "code",
   "execution_count": 4,
   "metadata": {},
   "outputs": [],
   "source": [
    "ACCOUNT_EXCLUDE_LIST = ['15d75000-a6b9-48d0-baa1-3e6acc9dd00e','8455d3fa-55b1-425d-9078-bf129a319e32']\n",
    "ACTIVE_PROV_COUNT = 25"
   ]
  },
  {
   "cell_type": "code",
   "execution_count": 5,
   "metadata": {},
   "outputs": [],
   "source": [
    "CUSTOM_FILTERS = {'account':{},\n",
    "                  'provider':{},}"
   ]
  },
  {
   "cell_type": "code",
   "execution_count": null,
   "metadata": {},
   "outputs": [],
   "source": []
  },
  {
   "cell_type": "code",
   "execution_count": null,
   "metadata": {},
   "outputs": [],
   "source": []
  },
  {
   "cell_type": "code",
   "execution_count": null,
   "metadata": {},
   "outputs": [],
   "source": []
  },
  {
   "cell_type": "code",
   "execution_count": null,
   "metadata": {},
   "outputs": [],
   "source": []
  }
 ],
 "metadata": {
  "kernelspec": {
   "display_name": "Python 3",
   "language": "python",
   "name": "python3"
  },
  "language_info": {
   "codemirror_mode": {
    "name": "ipython",
    "version": 3
   },
   "file_extension": ".py",
   "mimetype": "text/x-python",
   "name": "python",
   "nbconvert_exporter": "python",
   "pygments_lexer": "ipython3",
   "version": "3.7.7"
  }
 },
 "nbformat": 4,
 "nbformat_minor": 4
}
