{
 "cells": [
  {
   "cell_type": "markdown",
   "metadata": {},
   "source": [
    "# Cobalt Data Anomalies"
   ]
  },
  {
   "cell_type": "markdown",
   "metadata": {},
   "source": [
    "## Appointment Anomalies"
   ]
  },
  {
   "cell_type": "markdown",
   "metadata": {},
   "source": [
    "### Duplicate Appointments\n",
    "* multiple appointments with the same start_time, account_id, and provider_id but unique appointment ids"
   ]
  },
  {
   "cell_type": "code",
   "execution_count": null,
   "metadata": {},
   "outputs": [],
   "source": [
    "appointment_start_time = appointment.sort_values(['account_id', 'start_time']).groupby(['account_id'])[['start_time']].diff()\n",
    "appointment_start_time.columns = ['next_apt_time']\n",
    "\n",
    "appointment_diff = appointment.merge(appointment_start_time, how='inner', left_index=True, right_index=True)"
   ]
  },
  {
   "cell_type": "code",
   "execution_count": null,
   "metadata": {},
   "outputs": [],
   "source": [
    "dup_appt = appointment_completed.groupby(['account_id', 'start_time']).filter(lambda x: len(x)>1)\n",
    "dup_appt_acct_ids = pd.DataFrame(dup_appt.account_id.unique(), columns=['account_id'])"
   ]
  },
  {
   "cell_type": "code",
   "execution_count": null,
   "metadata": {},
   "outputs": [],
   "source": [
    "dup_appt.to_csv(BACKEND_ISSUES_PATH + 'dup_appt_' + str(datetime.datetime.now().date()).replace('-','') + '.csv')\n",
    "dup_appt_acct_ids.to_csv(BACKEND_ISSUES_PATH + 'dup_appt_acct_ids_' + str(datetime.datetime.now().date()).replace('-','') + '.csv')"
   ]
  },
  {
   "cell_type": "code",
   "execution_count": null,
   "metadata": {},
   "outputs": [],
   "source": [
    "print(len(dup_appt))\n",
    "print(len(dup_appt.account_id.unique()))\n",
    "dup_appt.head(2)"
   ]
  },
  {
   "cell_type": "code",
   "execution_count": null,
   "metadata": {},
   "outputs": [],
   "source": [
    "print(len(dup_appt_acct_ids))\n",
    "print(len(dup_appt_acct_ids.account_id.unique()))\n",
    "dup_appt_acct_ids.head(2)"
   ]
  },
  {
   "cell_type": "markdown",
   "metadata": {},
   "source": [
    "### Created Time > Start Time\n",
    "* Removing negative times should resolve **all** issues, including dup appts mentioned above"
   ]
  },
  {
   "cell_type": "code",
   "execution_count": null,
   "metadata": {},
   "outputs": [],
   "source": [
    "temp = appointment[appointment['created_completed_time']==0]\n",
    "print(len(temp))\n",
    "print(len([item for item in (temp['start_time'] - temp['created'])if item < np.timedelta64(0,'D')]))\n",
    "temp['start_time'] - temp['created']"
   ]
  },
  {
   "cell_type": "code",
   "execution_count": null,
   "metadata": {},
   "outputs": [],
   "source": [
    "created_start = appointment_completed[appointment_completed['created'] > appointment_completed['start_time']]\n",
    "created_start_acct_ids = pd.DataFrame(created_start.account_id.unique(), columns=['account_id'])"
   ]
  },
  {
   "cell_type": "code",
   "execution_count": null,
   "metadata": {},
   "outputs": [],
   "source": [
    "created_start.to_csv(BACKEND_ISSUES_PATH + 'created_start_' + str(datetime.datetime.now().date()).replace('-','') + '.csv')\n",
    "created_start_acct_ids.to_csv(BACKEND_ISSUES_PATH + 'created_start_acct_ids_' + str(datetime.datetime.now().date()).replace('-','') + '.csv')"
   ]
  },
  {
   "cell_type": "code",
   "execution_count": null,
   "metadata": {},
   "outputs": [],
   "source": [
    "print(len(created_start))\n",
    "print(len(created_start.account_id.unique()))\n",
    "created_start.head(2)"
   ]
  },
  {
   "cell_type": "code",
   "execution_count": null,
   "metadata": {},
   "outputs": [],
   "source": [
    "print(len(created_start_acct_ids))\n",
    "print(len(created_start_acct_ids.account_id.unique()))\n",
    "created_start_acct_ids.head(2)"
   ]
  },
  {
   "cell_type": "markdown",
   "metadata": {},
   "source": [
    "## Assessment complete_flag reliability: False vs True"
   ]
  },
  {
   "cell_type": "markdown",
   "metadata": {},
   "source": [
    "### Sample account with 6 sessions\n",
    "* Notice the multiple GAD7 sessions"
   ]
  },
  {
   "cell_type": "code",
   "execution_count": null,
   "metadata": {},
   "outputs": [],
   "source": [
    "# All sessions for sample account\n",
    "account_instance_sessions[account_instance_sessions['account_id']=='REDACTED'].sort_values(['created'])"
   ]
  },
  {
   "cell_type": "markdown",
   "metadata": {},
   "source": [
    "### First GAD7 entry (idx 21671)\n",
    "* This session occurs **first** chronologically\n",
    "* This session has a **complete_flag=True**\n",
    "* This session is associated with **zero** answers"
   ]
  },
  {
   "cell_type": "code",
   "execution_count": null,
   "metadata": {},
   "outputs": [],
   "source": [
    "# GAD7 session 1\n",
    "account_instance_sessions[account_instance_sessions['account_session_id']=='REDACTED']"
   ]
  },
  {
   "cell_type": "code",
   "execution_count": null,
   "metadata": {},
   "outputs": [],
   "source": [
    "# GAD7 session 1 answers\n",
    "account_instance_session_answers[account_instance_session_answers['account_session_id']=='REDACTED']"
   ]
  },
  {
   "cell_type": "markdown",
   "metadata": {},
   "source": [
    "### Second GAD7 entry (idx 15342)\n",
    "* This session occurs **second** chronologically\n",
    "* This session has a **complete_flag=False**\n",
    "* This session is associated with **all** answers"
   ]
  },
  {
   "cell_type": "code",
   "execution_count": null,
   "metadata": {},
   "outputs": [],
   "source": [
    "# GAD7 session 2\n",
    "account_instance_sessions[account_instance_sessions['account_session_id']=='REDACTED']"
   ]
  },
  {
   "cell_type": "code",
   "execution_count": null,
   "metadata": {},
   "outputs": [],
   "source": [
    "# GAD7 session 2 answers\n",
    "account_instance_session_answers[account_instance_session_answers['account_session_id']=='REDACTED']"
   ]
  },
  {
   "cell_type": "markdown",
   "metadata": {},
   "source": [
    "### Conclusions/Questions:\n",
    "* Question 1: Can complete_flag be trusted?\n",
    "* Question 2: If both GAD7 assessments had ALL questions answered, which score to accept?\n",
    "    * This occurs *6 times* throughout the data (i.e. a participant has multiple complete assessments *within the same instance*)"
   ]
  },
  {
   "cell_type": "markdown",
   "metadata": {},
   "source": [
    "## Assessment complete_flag reliability: Status of \"false\" sessions"
   ]
  },
  {
   "cell_type": "code",
   "execution_count": null,
   "metadata": {},
   "outputs": [],
   "source": [
    "print(len(account_session))\n",
    "account_session.complete_flag.value_counts()"
   ]
  },
  {
   "cell_type": "markdown",
   "metadata": {},
   "source": [
    "### \"False\" Sessions: \n",
    "* complete_flag=False \n",
    "* assessments are one of PHQ4, PHQ9, GAD7, PCPTSD"
   ]
  },
  {
   "cell_type": "code",
   "execution_count": null,
   "metadata": {},
   "outputs": [],
   "source": [
    "instance_session_ids = [PHQ4_id,PHQ9_id,GAD7_id,PCPTSD_id]\n",
    "account_session_false = account_session.copy()\n",
    "account_session_false = account_session[account_session['complete_flag']==False]\n",
    "account_session_false = account_session_false[account_session_false['assessment_id'].isin(instance_session_ids)]\n",
    "account_session_false_ids = account_session_false.account_session_id"
   ]
  },
  {
   "cell_type": "code",
   "execution_count": null,
   "metadata": {},
   "outputs": [],
   "source": [
    "print(len(account_session_false))\n",
    "account_session_false.head(2)"
   ]
  },
  {
   "cell_type": "code",
   "execution_count": null,
   "metadata": {},
   "outputs": [],
   "source": [
    "account_session_answer_false = account_session_answer.copy()\n",
    "account_session_answer_false = account_session_answer_false[account_session_answer_false['account_session_id'].isin(account_session_false_ids)]"
   ]
  },
  {
   "cell_type": "code",
   "execution_count": null,
   "metadata": {},
   "outputs": [],
   "source": [
    "print(len(account_session_answer_false))\n",
    "print(len(account_session_answer_false.account_session_id.unique()))"
   ]
  },
  {
   "cell_type": "code",
   "execution_count": null,
   "metadata": {},
   "outputs": [],
   "source": [
    "print(len(account_session_answer_false))\n",
    "account_session_answer_false.head(2)"
   ]
  },
  {
   "cell_type": "markdown",
   "metadata": {},
   "source": [
    "### PHQ4\n",
    "* Number of *session answers* with complete_flag=False\n",
    "    * 180 sessions answered all 4 questions"
   ]
  },
  {
   "cell_type": "code",
   "execution_count": null,
   "metadata": {},
   "outputs": [],
   "source": [
    "PHQ4_answers_false = account_session_answer_false[account_session_answer_false['assessment_name']=='PHQ4']\n",
    "PHQ4_answers_false.groupby(['account_session_id']).count().account_session_answer_id.value_counts()"
   ]
  },
  {
   "cell_type": "code",
   "execution_count": null,
   "metadata": {},
   "outputs": [],
   "source": [
    "# Alternative grouping strategy --> same results\n",
    "tempp_idx = account_session_false[account_session_false['assessment_name']=='PHQ4'].account_session_id\n",
    "account_session_answer_false[account_session_answer_false['account_session_id'].isin(tempp_idx)].groupby(['account_session_id']).count().account_session_answer_id.value_counts()"
   ]
  },
  {
   "cell_type": "markdown",
   "metadata": {},
   "source": [
    "### PHQ9\n",
    "* Number of *session answers* with complete_flag=False\n",
    "    * 108 sessions answered all 7 questions"
   ]
  },
  {
   "cell_type": "code",
   "execution_count": null,
   "metadata": {},
   "outputs": [],
   "source": [
    "PHQ9_answers_false = account_session_answer_false[account_session_answer_false['assessment_name']=='PHQ9']\n",
    "PHQ9_answers_false.groupby(['account_session_id']).count().account_session_answer_id.value_counts()"
   ]
  },
  {
   "cell_type": "markdown",
   "metadata": {},
   "source": [
    "### GAD7\n",
    "* Number of *session answers* with complete_flag=False\n",
    "    * 47 sessions answered all 5 questions"
   ]
  },
  {
   "cell_type": "code",
   "execution_count": null,
   "metadata": {},
   "outputs": [],
   "source": [
    "GAD7_answers_false = account_session_answer_false[account_session_answer_false['assessment_name']=='GAD7']\n",
    "GAD7_answers_false.groupby(['account_session_id']).count().account_session_answer_id.value_counts()"
   ]
  },
  {
   "cell_type": "markdown",
   "metadata": {},
   "source": [
    "### PCPTSD\n",
    "* Number of *session answers* with complete_flag=False\n",
    "    * 5 sessions answered all 5 questions"
   ]
  },
  {
   "cell_type": "code",
   "execution_count": null,
   "metadata": {},
   "outputs": [],
   "source": [
    "PCPTSD_answers_false = account_session_answer_false[account_session_answer_false['assessment_name']=='PCPTSD']\n",
    "PCPTSD_answers_false.groupby(['account_session_id']).count().account_session_answer_id.value_counts()"
   ]
  },
  {
   "cell_type": "markdown",
   "metadata": {},
   "source": [
    "### Conclusion\n",
    "* 180 + 108 + 47 + 5 = **340** potentially uncounted completed assessments\n",
    "* Potentialy uncounted complete instances/escalations:\n",
    "    * *5 or less* possible escalations for participants that *completed the entire survey chain through the PCPTSD*\n",
    "    * *0 or more* possible escalations for participants that *completed the PHQ4 with a score < 3*"
   ]
  },
  {
   "cell_type": "code",
   "execution_count": null,
   "metadata": {},
   "outputs": [],
   "source": [
    "print('Complete PHQ4 assessments according to complete_flag:',len(account_session[(account_session['assessment_name']=='PHQ4') & account_session['complete_flag']==True]))\n",
    "print()\n",
    "print('Comparison with anomaly-aware processing:\\n', account_instance_session_update[account_instance_session_update['assessment_name']=='PHQ4'][['complete_flag','outcome_complete']].sum())"
   ]
  },
  {
   "cell_type": "code",
   "execution_count": null,
   "metadata": {},
   "outputs": [],
   "source": [
    "print('Incomplete PHQ4 assessments according to complete_flag:',len(account_session[(account_session['assessment_name']=='PHQ4') & (account_session['complete_flag']==False)]))\n",
    "print()\n",
    "print('Comparison with anomaly-aware processing:\\ncomplete_flag:', account_instance_session_update[(account_instance_session_update['assessment_name']=='PHQ4') & (account_instance_session_update['complete_flag']==False)].complete_flag.count(), '\\noutcome_complete:', account_instance_session_update[(account_instance_session_update['assessment_name']=='PHQ4') & (account_instance_session_update['outcome_complete']==0)].outcome_complete.count())"
   ]
  },
  {
   "cell_type": "markdown",
   "metadata": {},
   "source": [
    "## Cobalt Meeting 11/12/2021: Asessment and complete_flag Anomalies"
   ]
  },
  {
   "cell_type": "markdown",
   "metadata": {},
   "source": [
    "### Attempted PHQ4 Assessments: Distribution of Questions Answered\n",
    "* The vast majority of incomplete PHQ4 assessments have 0 answers, so clicking \"skip\" is likely the cause"
   ]
  },
  {
   "cell_type": "code",
   "execution_count": null,
   "metadata": {},
   "outputs": [],
   "source": [
    "account_instance_session_update[account_instance_session_update['assessment_name']=='PHQ4'].num_questions_answered.value_counts()"
   ]
  },
  {
   "cell_type": "markdown",
   "metadata": {},
   "source": [
    "### Completed PHQ4 Assessments: Distribution of complete_flag Values\n",
    "* Note: completed = all distinct questions answered, regardless of complete_flag status"
   ]
  },
  {
   "cell_type": "markdown",
   "metadata": {},
   "source": [
    "#### Using native database tables"
   ]
  },
  {
   "cell_type": "code",
   "execution_count": null,
   "metadata": {},
   "outputs": [],
   "source": [
    "account_session_temp = account_session[account_session['assessment_id']==PHQ4_id]\n",
    "temp_session_ids = account_session_temp.account_session_id"
   ]
  },
  {
   "cell_type": "code",
   "execution_count": null,
   "metadata": {},
   "outputs": [],
   "source": [
    "account_session_answer_temp = account_session_answer[account_session_answer['account_session_id'].isin(temp_session_ids)]\n",
    "account_session_answer_temp = account_session_answer_temp.groupby(['account_session_id']).filter(lambda x: len(x)==4)\n",
    "account_session_answer_temp = account_session_answer_temp.groupby(['account_session_id']).mean()\n",
    "\n",
    "account_session_merged_temp = account_session_answer_temp.merge(account_session_temp[['account_session_id','created']], \n",
    "                                                                left_index=True, \n",
    "                                                                right_on='account_session_id', \n",
    "                                                                how='inner')"
   ]
  },
  {
   "cell_type": "code",
   "execution_count": null,
   "metadata": {},
   "outputs": [],
   "source": [
    "account_session_merged_temp.complete_flag.value_counts()"
   ]
  },
  {
   "cell_type": "code",
   "execution_count": null,
   "metadata": {},
   "outputs": [],
   "source": [
    "account_session_merged_temp[account_session_merged_temp['complete_flag']==False].created.dt.date.sort_values(ascending=False)"
   ]
  },
  {
   "cell_type": "markdown",
   "metadata": {},
   "source": [
    "#### Using derived instance tables\n",
    "* Identical result to above"
   ]
  },
  {
   "cell_type": "code",
   "execution_count": null,
   "metadata": {},
   "outputs": [],
   "source": [
    "account_instance_session_update[(account_instance_session_update['assessment_name']=='PHQ4') & \n",
    "                                (account_instance_session_update['outcome_complete']==1)].complete_flag.value_counts()"
   ]
  },
  {
   "cell_type": "code",
   "execution_count": null,
   "metadata": {},
   "outputs": [],
   "source": [
    "account_instance_session_update[(account_instance_session_update['assessment_name']=='PHQ4') & \n",
    "                                (account_instance_session_update['outcome_complete']==1) & \n",
    "                                (account_instance_session_update['complete_flag']==False)].created.dt.date.sort_values(ascending=False)"
   ]
  },
  {
   "cell_type": "markdown",
   "metadata": {},
   "source": [
    "### Accounts with >1 completed assessment within the same instance\n",
    "* I forgot to mention this is the call\n",
    "* The sample account below has:\n",
    "    * 21 session attempts within about 6-7 minutes\n",
    "    * 2 completed PHQ9 assessments \n",
    "    * 2 completed GAD7 assessments\n",
    "* This type of event occurs **only 6 times** in the entire database \n",
    "* Given the rarity and complexity of these events, my thought is to just exclude these accounts/sessions"
   ]
  },
  {
   "cell_type": "code",
   "execution_count": null,
   "metadata": {},
   "outputs": [],
   "source": [
    "account_session[account_session['account_id']=='REDACTED'].sort_values('created')"
   ]
  },
  {
   "cell_type": "code",
   "execution_count": null,
   "metadata": {},
   "outputs": [],
   "source": []
  },
  {
   "cell_type": "code",
   "execution_count": null,
   "metadata": {},
   "outputs": [],
   "source": []
  },
  {
   "cell_type": "code",
   "execution_count": null,
   "metadata": {},
   "outputs": [],
   "source": []
  },
  {
   "cell_type": "markdown",
   "metadata": {},
   "source": [
    "# Unused / Deprecated Code"
   ]
  },
  {
   "cell_type": "code",
   "execution_count": null,
   "metadata": {},
   "outputs": [],
   "source": []
  },
  {
   "cell_type": "code",
   "execution_count": null,
   "metadata": {},
   "outputs": [],
   "source": []
  }
 ],
 "metadata": {
  "kernelspec": {
   "display_name": "Python [conda env:base] *",
   "language": "python",
   "name": "conda-base-py"
  },
  "language_info": {
   "codemirror_mode": {
    "name": "ipython",
    "version": 3
   },
   "file_extension": ".py",
   "mimetype": "text/x-python",
   "name": "python",
   "nbconvert_exporter": "python",
   "pygments_lexer": "ipython3",
   "version": "3.11.8"
  }
 },
 "nbformat": 4,
 "nbformat_minor": 4
}
