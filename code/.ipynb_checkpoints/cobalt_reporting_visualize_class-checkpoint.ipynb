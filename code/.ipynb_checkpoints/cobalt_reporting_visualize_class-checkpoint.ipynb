{
 "cells": [
  {
   "cell_type": "markdown",
   "metadata": {},
   "source": [
    "# Cobalt Reporting Visualize Class\n",
    "* Reporting system class with attributes and function definitions for visualizations "
   ]
  },
  {
   "cell_type": "markdown",
   "metadata": {},
   "source": [
    "## Labeling"
   ]
  },
  {
   "cell_type": "code",
   "execution_count": 42,
   "metadata": {},
   "outputs": [],
   "source": [
    "def get_ts_xlabels(index, time): \n",
    "    xlabels = []\n",
    "    if type(index) == pd.MultiIndex:\n",
    "        if time == 'weekly':\n",
    "            for item in index:\n",
    "                year = str(item[0])\n",
    "                month = str(item[1])\n",
    "                if len(month) == 1:\n",
    "                    month = '0' + month\n",
    "                day = str(item[2])\n",
    "                if len(day) == 1:\n",
    "                    day = '0' + day\n",
    "                xlabels.append(year + '-' + month + '-' + day)\n",
    "        if time == 'monthly':\n",
    "            xlabels = [month_dict[item[1]] + '\\n' + str(item[0]) for item in index]\n",
    "    return xlabels"
   ]
  },
  {
   "cell_type": "markdown",
   "metadata": {},
   "source": [
    "## Visualization"
   ]
  },
  {
   "cell_type": "code",
   "execution_count": 43,
   "metadata": {},
   "outputs": [],
   "source": [
    "def get_appointment_heatmap(data, apt_type, grouping, date_col, id_col, date_offset=0, save_fig=False, save_path=''):\n",
    "    day_names = ['Monday','Tuesday','Wednesday','Thursday','Friday','Saturday','Sunday',]\n",
    "    day_names_dict = dict({0:'Monday',1:'Tuesday',2:'Wednesday',3:'Thursday',4:'Friday',5:'Saturday',6:'Sunday'})\n",
    "    \n",
    "    # Set date range and filename\n",
    "    if date_offset < 0: # past\n",
    "        data = data[(data[date_col] >= pd.to_datetime(datetime.datetime.now() + pd.Timedelta(days=date_offset)).tz_localize(tz='US/Eastern')) & \n",
    "                    (data[date_col] <= pd.to_datetime(datetime.datetime.now()).tz_localize(tz='US/Eastern'))]\n",
    "        filename = apt_type + '_appointment_' + grouping + '_last' + str(abs(date_offset)) + 'days_'\n",
    "        offset_title = 'Last ' + str(abs(date_offset)) + ' Days'\n",
    "    elif date_offset > 0: # future\n",
    "        data = data[(data[date_col] <= pd.to_datetime(datetime.datetime.now() + pd.Timedelta(days=date_offset)).tz_localize(tz='US/Eastern')) & \n",
    "                    (data[date_col] >= pd.to_datetime(datetime.datetime.now()).tz_localize(tz='US/Eastern'))]\n",
    "        filename = apt_type + '_appointment_' + grouping + '_next' + str(date_offset) + 'days_'\n",
    "        offset_title = 'Next ' + str(date_offset) + ' Days'\n",
    "    else: \n",
    "        filename = apt_type + '_appointment_' + grouping + '_allTime_'\n",
    "        offset_title = 'All Time'\n",
    "    \n",
    "    # Prep figure data and labels\n",
    "    data = data.groupby([grouping,'support_role_id']).count()[id_col]\n",
    "    data = data.unstack().fillna(0)\n",
    "    data = data.transpose()\n",
    "    \n",
    "    if grouping == 'dayofweek':\n",
    "        data.columns = [day_names_dict[item] for item in data.columns]\n",
    "        grouping_title = 'Day of Week'\n",
    "    elif grouping == 'hourofday':\n",
    "        grouping_title = 'Hour of Day'\n",
    "        \n",
    "    # Plot\n",
    "    fig, ax = plt.subplots(figsize=(16,8)) \n",
    "    sns.heatmap(data, annot=True, linewidths=.5, ax=ax)\n",
    "    ax.set_title(apt_type.capitalize() + ' Appointments by ' + grouping_title + ': ' + offset_title, fontsize=18)\n",
    "    \n",
    "    if save_fig:\n",
    "        save_figure(fig, save_path, filename)"
   ]
  },
  {
   "cell_type": "code",
   "execution_count": 44,
   "metadata": {},
   "outputs": [],
   "source": [
    "def save_figure(fig, path, filename):\n",
    "    name = path + filename + str(datetime.datetime.now().date()).replace('-','') + '.png'\n",
    "    fig.savefig(name, bbox_inches='tight', pad_inches=0, dpi=SAVE_DPI, transparent=True)"
   ]
  },
  {
   "cell_type": "code",
   "execution_count": null,
   "metadata": {},
   "outputs": [],
   "source": []
  },
  {
   "cell_type": "code",
   "execution_count": null,
   "metadata": {},
   "outputs": [],
   "source": []
  },
  {
   "cell_type": "code",
   "execution_count": null,
   "metadata": {},
   "outputs": [],
   "source": []
  },
  {
   "cell_type": "code",
   "execution_count": null,
   "metadata": {},
   "outputs": [],
   "source": []
  }
 ],
 "metadata": {
  "kernelspec": {
   "display_name": "Python 3",
   "language": "python",
   "name": "python3"
  },
  "language_info": {
   "codemirror_mode": {
    "name": "ipython",
    "version": 3
   },
   "file_extension": ".py",
   "mimetype": "text/x-python",
   "name": "python",
   "nbconvert_exporter": "python",
   "pygments_lexer": "ipython3",
   "version": "3.7.7"
  }
 },
 "nbformat": 4,
 "nbformat_minor": 4
}
