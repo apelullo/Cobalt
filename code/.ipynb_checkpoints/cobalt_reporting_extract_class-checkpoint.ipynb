{
 "cells": [
  {
   "cell_type": "markdown",
   "metadata": {},
   "source": [
    "# Cobalt Reporting Extract Class\n",
    "* Reporting system class with attributes and function definitions for data extraction and cleaning"
   ]
  },
  {
   "cell_type": "code",
   "execution_count": 1,
   "metadata": {},
   "outputs": [],
   "source": [
    "# Modules\n",
    "from cobalt_reporting_parameters import *\n",
    "\n",
    "import pandas as pd\n",
    "import numpy as np\n",
    "\n",
    "import re\n",
    "import datetime\n",
    "from collections import defaultdict\n",
    "\n",
    "import glob\n",
    "import os\n",
    "import psycopg2\n",
    "from sqlalchemy import create_engine\n",
    "\n",
    "import matplotlib.pyplot as plt\n",
    "import matplotlib.dates as mdates\n",
    "import seaborn as sns; "
   ]
  },
  {
   "cell_type": "markdown",
   "metadata": {},
   "source": [
    "# Function Definitions"
   ]
  },
  {
   "cell_type": "markdown",
   "metadata": {},
   "source": [
    "## Database"
   ]
  },
  {
   "cell_type": "code",
   "execution_count": 2,
   "metadata": {},
   "outputs": [],
   "source": [
    "def database_connect():\n",
    "    # Read-only database connection\n",
    "    read_conn = psycopg2.connect(database=DB_NAME, user=DB_USER, password=DB_PASSWORD, host=DB_HOST, port= '5432')\n",
    "    read_conn.autocommit = True\n",
    "    read_cursor = read_conn.cursor()\n",
    "\n",
    "    # Reporting database connection\n",
    "    reporting_conn = psycopg2.connect(database=DB_REPORTING_NAME, user=DB_REPORTING_USER, password=DB_REPORTING_PASSWORD, host=DB_REPORTING_HOST, port= '5432')\n",
    "    reporting_conn.autocommit = True\n",
    "    reporting_cursor = reporting_conn.cursor()\n",
    "    \n",
    "    return read_cursor,reporting_cursor"
   ]
  },
  {
   "cell_type": "code",
   "execution_count": 3,
   "metadata": {},
   "outputs": [],
   "source": [
    "def get_table_data(db_cursor, table_name, limit='ALL'):\n",
    "    # check user input - allows string or numeric input (may change to string only to simpllify error checking)\n",
    "    if type(limit) == str: \n",
    "        if limit != 'ALL':\n",
    "            try:\n",
    "                int(limit)\n",
    "            except:\n",
    "                print(\"Please enter an integer value for limit.\")\n",
    "                return\n",
    "    elif type(limit) == int:\n",
    "        limit = str(limit)\n",
    "    else:\n",
    "        print(\"Please enter an integer value for limit.\")\n",
    "        return\n",
    "    \n",
    "    query = \"\"\"SELECT * FROM \"\"\" + table_name + \"\"\" LIMIT \"\"\" + limit + \"\"\";\"\"\"\n",
    "    db_cursor.execute(query)\n",
    "    result = db_cursor.fetchall()\n",
    "    colnames = [desc[0] for desc in db_cursor.description]\n",
    "    dataframe = pd.DataFrame(result, columns=colnames)\n",
    "    \n",
    "    return dataframe"
   ]
  },
  {
   "cell_type": "markdown",
   "metadata": {},
   "source": [
    "## Data Utility"
   ]
  },
  {
   "cell_type": "code",
   "execution_count": 4,
   "metadata": {},
   "outputs": [],
   "source": [
    "def get_date_str(date, formatted=False):\n",
    "    year = str(date.year)\n",
    "    month = str(date.month)\n",
    "    if len(month)==1:\n",
    "        month = '0'+month\n",
    "    day = str(date.day)\n",
    "    if len(day)==1:\n",
    "        day = '0'+day\n",
    "        \n",
    "    if formatted:\n",
    "        date = year+'/'+month+'/'+day\n",
    "    else:\n",
    "        date = year+month+day\n",
    "    return date"
   ]
  },
  {
   "cell_type": "code",
   "execution_count": 5,
   "metadata": {},
   "outputs": [],
   "source": [
    "def get_appt_provider_role(row):\n",
    "    ambiguous_appt_names = ['Initial Visit','Followup Visit','Return Visit']\n",
    "    ambiguous_appt_names_roles = ['CLINICIAN','PSYCHIATRIST']\n",
    "    appt_type_name = row['appointment_type_name']\n",
    "    provider_id = row['provider_id']\n",
    "    \n",
    "    if appt_type_name in appt_provider_role_dict.keys():\n",
    "        appt_role = appt_provider_role_dict[appt_type_name]\n",
    "    elif appt_type_name in ambiguous_appt_names:\n",
    "        appt_role = provider_support_role[(provider_support_role['provider_id']==provider_id) & \n",
    "                                          (provider_support_role['support_role_id'].isin(ambiguous_appt_names_roles))].support_role_id.values[0]\n",
    "    else:\n",
    "        appt_role = 'UNDEFINED'\n",
    "    \n",
    "    \n",
    "    return appt_role"
   ]
  },
  {
   "cell_type": "code",
   "execution_count": 6,
   "metadata": {},
   "outputs": [],
   "source": [
    "def get_appt_provider_role_df(data, provider_support_role):    \n",
    "    mult_role = provider_support_role.groupby(['provider_id']).filter(lambda x: len(x)>1)\n",
    "    mult_role_provID = mult_role.provider_id.unique()\n",
    "\n",
    "    appt_single_role = data[~data['provider_id'].isin(mult_role_provID)].copy()\n",
    "    appt_mult_role = data[data['provider_id'].isin(mult_role_provID)].copy()\n",
    "\n",
    "    appt_single_role = appt_single_role.merge(provider_support_role, how='inner', left_on='provider_id', right_on='provider_id')\n",
    "    appt_mult_role['support_role_id'] = appt_mult_role.apply(lambda x: get_appt_provider_role(x), axis=1)\n",
    "\n",
    "    data = pd.concat([appt_single_role,appt_mult_role]).sort_index()\n",
    "\n",
    "    return data"
   ]
  },
  {
   "cell_type": "code",
   "execution_count": null,
   "metadata": {},
   "outputs": [],
   "source": [
    "#data_entity_meta = meta_data_init(data_entity_names,data_entity_properties)\n",
    "#data_group_meta = meta_data_init(data_group_names,data_group_properties)\n",
    "def meta_data_init(names,properties):\n",
    "    def get_meta_template(name):\n",
    "        template = {key:properties[key]['default'] for key in properties}\n",
    "        template['name']=name\n",
    "        return template\n",
    "    \n",
    "    meta_data = {name:get_meta_template(name) for name in names}\n",
    "    \n",
    "    return meta_data"
   ]
  },
  {
   "cell_type": "markdown",
   "metadata": {},
   "source": [
    "## Data Extraction and Manipulation"
   ]
  },
  {
   "cell_type": "code",
   "execution_count": null,
   "metadata": {},
   "outputs": [],
   "source": []
  },
  {
   "cell_type": "code",
   "execution_count": null,
   "metadata": {},
   "outputs": [],
   "source": []
  },
  {
   "cell_type": "code",
   "execution_count": null,
   "metadata": {},
   "outputs": [],
   "source": []
  },
  {
   "cell_type": "code",
   "execution_count": null,
   "metadata": {},
   "outputs": [],
   "source": []
  },
  {
   "cell_type": "code",
   "execution_count": null,
   "metadata": {},
   "outputs": [],
   "source": []
  },
  {
   "cell_type": "code",
   "execution_count": null,
   "metadata": {},
   "outputs": [],
   "source": []
  },
  {
   "cell_type": "code",
   "execution_count": null,
   "metadata": {},
   "outputs": [],
   "source": []
  },
  {
   "cell_type": "code",
   "execution_count": null,
   "metadata": {},
   "outputs": [],
   "source": []
  },
  {
   "cell_type": "code",
   "execution_count": null,
   "metadata": {},
   "outputs": [],
   "source": []
  },
  {
   "cell_type": "code",
   "execution_count": null,
   "metadata": {},
   "outputs": [],
   "source": []
  },
  {
   "cell_type": "code",
   "execution_count": null,
   "metadata": {},
   "outputs": [],
   "source": []
  },
  {
   "cell_type": "code",
   "execution_count": null,
   "metadata": {},
   "outputs": [],
   "source": []
  },
  {
   "cell_type": "code",
   "execution_count": null,
   "metadata": {},
   "outputs": [],
   "source": []
  },
  {
   "cell_type": "code",
   "execution_count": null,
   "metadata": {},
   "outputs": [],
   "source": []
  },
  {
   "cell_type": "code",
   "execution_count": null,
   "metadata": {},
   "outputs": [],
   "source": []
  },
  {
   "cell_type": "code",
   "execution_count": null,
   "metadata": {},
   "outputs": [],
   "source": []
  },
  {
   "cell_type": "code",
   "execution_count": null,
   "metadata": {},
   "outputs": [],
   "source": []
  },
  {
   "cell_type": "code",
   "execution_count": null,
   "metadata": {},
   "outputs": [],
   "source": []
  },
  {
   "cell_type": "markdown",
   "metadata": {},
   "source": [
    "### Accounts"
   ]
  },
  {
   "cell_type": "code",
   "execution_count": 47,
   "metadata": {},
   "outputs": [],
   "source": [
    "def get_account(cursor, data_dict=dict()):\n",
    "    \n",
    "    # Get account data\n",
    "    account = get_table_data(cursor, 'account')\n",
    "\n",
    "    # Adjust columns\n",
    "    account['year'] = account['created'].dt.year\n",
    "    account['month'] = account['created'].dt.month\n",
    "    account['week'] = account['created'].dt.week\n",
    "    account['day'] = account['created'].dt.day\n",
    "    account['year_month'] = account['created'].values.astype('datetime64[M]')\n",
    "    account['year_month_week'] = account['created'].values.astype('datetime64[W]')\n",
    "    account['dayofyear'] = account['created'].apply(lambda x: get_date_str(x))\n",
    "\n",
    "    # Filter for relevant data\n",
    "    account = account[(account['institution_id']==INSTITUTION_ID) & (account['role_id']=='PATIENT')]\n",
    "\n",
    "    # Populate data dict\n",
    "    data_dict['account'] = account\n",
    "    \n",
    "    return data_dict\n",
    "    \n",
    "    \n",
    "    # Time series data\n",
    "    acct_monthly_ts = pd.DataFrame(account.groupby(['year','month']).count().account_id)\n",
    "    acct_weekly_ts = pd.DataFrame(account.groupby(['year_month_week']).count().account_id)\n",
    "    acct_weekly_ts.index = pd.MultiIndex.from_arrays([acct_weekly_ts.index.year, \n",
    "                                                                acct_weekly_ts.index.month, \n",
    "                                                                acct_weekly_ts.index.day], \n",
    "                                                                names=['Year','Month','Week'])\n",
    "\n",
    "    # Time series data by account source\n",
    "    acct_src_ts = pd.DataFrame(account.groupby(['year','month','account_source_id']).count().account_id)\n",
    "    acct_src_ts = acct_src_ts.unstack().fillna(0).account_id\n",
    "\n",
    "    acct_src_weekly_ts = pd.DataFrame(account.groupby(['year_month_week', 'account_source_id']).count()).account_id\n",
    "    acct_src_weekly_ts = acct_src_weekly_ts.unstack().fillna(0)\n",
    "    acct_src_weekly_ts.index = pd.MultiIndex.from_arrays([acct_src_weekly_ts.index.year, \n",
    "                                                          acct_src_weekly_ts.index.month, \n",
    "                                                          acct_src_weekly_ts.index.day], \n",
    "                                                          names=['Year','Month','Week'])\n",
    "    \n",
    "    \n",
    "    data_dict['acct_monthly_ts'] = acct_monthly_ts\n",
    "    data_dict['acct_weekly_ts'] = acct_weekly_ts\n",
    "    data_dict['acct_src_ts'] = acct_src_ts\n",
    "    data_dict['acct_src_weekly_ts'] = acct_src_weekly_ts\n",
    "    "
   ]
  },
  {
   "cell_type": "code",
   "execution_count": null,
   "metadata": {},
   "outputs": [],
   "source": [
    "def get_acct_monthly_ts(cursor, data_dict=dict()):\n",
    "    \n",
    "    acct_monthly_ts = pd.DataFrame(account.groupby(['year','month']).count().account_id)\n",
    "    \n",
    "    return data_dict"
   ]
  },
  {
   "cell_type": "code",
   "execution_count": null,
   "metadata": {},
   "outputs": [],
   "source": [
    "def get_(cursor, data_dict=dict()):\n",
    "    \n",
    "    return data_dict"
   ]
  },
  {
   "cell_type": "code",
   "execution_count": null,
   "metadata": {},
   "outputs": [],
   "source": [
    "def get_(cursor, data_dict=dict()):\n",
    "    \n",
    "    return data_dict"
   ]
  },
  {
   "cell_type": "code",
   "execution_count": null,
   "metadata": {},
   "outputs": [],
   "source": [
    "def get_(cursor, data_dict=dict()):\n",
    "    \n",
    "    return data_dict"
   ]
  },
  {
   "cell_type": "code",
   "execution_count": null,
   "metadata": {},
   "outputs": [],
   "source": []
  },
  {
   "cell_type": "code",
   "execution_count": null,
   "metadata": {},
   "outputs": [],
   "source": []
  },
  {
   "cell_type": "code",
   "execution_count": 48,
   "metadata": {},
   "outputs": [],
   "source": [
    "def get_accounts_for_stats(cursor, data_dict=dict()):\n",
    "    \n",
    "    # Get account data\n",
    "    accounts_for_stats = get_table_data(cursor, 'v_accounts_for_stats')\n",
    "\n",
    "    # Adjust columns\n",
    "    accounts_for_stats['year'] = accounts_for_stats['created'].dt.year\n",
    "    accounts_for_stats['month'] = accounts_for_stats['created'].dt.month\n",
    "    accounts_for_stats['week'] = accounts_for_stats['created'].dt.week\n",
    "    accounts_for_stats['day'] = accounts_for_stats['created'].dt.day\n",
    "    accounts_for_stats['year_month'] = accounts_for_stats['created'].values.astype('datetime64[M]')\n",
    "    accounts_for_stats['year_month_week'] = accounts_for_stats['created'].values.astype('datetime64[W]')\n",
    "    accounts_for_stats['dayofyear'] = accounts_for_stats['created'].apply(lambda x: get_date_str(x))\n",
    "\n",
    "    # Filter for relevant data\n",
    "    accounts_for_stats = accounts_for_stats[(accounts_for_stats['institution_id']=='PENN') & (accounts_for_stats['role_id']=='PATIENT')]\n",
    "\n",
    "    # Time series data\n",
    "    acct_stats_ts_data = pd.DataFrame(accounts_for_stats.groupby(['year','month']).count().account_id)\n",
    "    acct_stats_weekly_ts_data = pd.DataFrame(accounts_for_stats.groupby(['year_month_week']).count().account_id)\n",
    "    acct_stats_weekly_ts_data.index = pd.MultiIndex.from_arrays([acct_stats_weekly_ts_data.index.year, \n",
    "                                                                acct_stats_weekly_ts_data.index.month, \n",
    "                                                                acct_stats_weekly_ts_data.index.day], \n",
    "                                                                names=['Year','Month','Week'])\n",
    "    \n",
    "    # Populate data dict\n",
    "    data_dict['accounts_for_stats'] = accounts_for_stats\n",
    "    data_dict['acct_stats_ts_data'] = acct_stats_ts_data\n",
    "    data_dict['acct_stats_weekly_ts_data'] = acct_stats_weekly_ts_data\n",
    "    \n",
    "    return data_dict"
   ]
  },
  {
   "cell_type": "code",
   "execution_count": 49,
   "metadata": {},
   "outputs": [],
   "source": [
    "def get_account_data(cursor, data_dict=dict()):\n",
    "    \n",
    "    data_dict = get_account(cursor=cursor, data_dict=data_dict)\n",
    "    data_dict = get_accounts_for_stats(cursor=cursor, data_dict=data_dict)\n",
    "    \n",
    "    return data_dict"
   ]
  },
  {
   "cell_type": "markdown",
   "metadata": {},
   "source": [
    "### Providers"
   ]
  },
  {
   "cell_type": "code",
   "execution_count": 11,
   "metadata": {},
   "outputs": [],
   "source": [
    "def get_provider(cursor):\n",
    "    \n",
    "    \n",
    "    \n",
    "    provider_dict = dict()\n",
    "    \n",
    "    return provider_dict"
   ]
  },
  {
   "cell_type": "code",
   "execution_count": 12,
   "metadata": {},
   "outputs": [],
   "source": [
    "def get_provider_support_role(cursor):\n",
    "    \n",
    "    provider_support_role_dict = dict()\n",
    "    \n",
    "    return provider_support_role_dict"
   ]
  },
  {
   "cell_type": "code",
   "execution_count": 13,
   "metadata": {},
   "outputs": [],
   "source": [
    "def get_provider_appointment_type(cursor):\n",
    "    \n",
    "    provider_appointment_type_dict = dict()\n",
    "    \n",
    "    return provider_appointment_type_dict"
   ]
  },
  {
   "cell_type": "code",
   "execution_count": 14,
   "metadata": {},
   "outputs": [],
   "source": [
    "def get_provider_data(cursor):\n",
    "    \n",
    "    provider_dict = get_provider(cursor=cursor)\n",
    "    provider_support_role_dict = get_provider_support_role(cursor=cursor)\n",
    "    provider_appointment_type_dict = get_provider_appointment_type(cursor=cursor)\n",
    "    \n",
    "    provider_data = {**provider_dict, **provider_support_role_dict, **provider_appointment_type_dict}\n",
    "    \n",
    "    return provider_data"
   ]
  },
  {
   "cell_type": "markdown",
   "metadata": {},
   "source": [
    "### Appointments"
   ]
  },
  {
   "cell_type": "code",
   "execution_count": 15,
   "metadata": {},
   "outputs": [],
   "source": [
    "def get_appointment_type(cursor):\n",
    "    \n",
    "    appointment_type_dict = dict()\n",
    "    \n",
    "    return appointment_type_dict"
   ]
  },
  {
   "cell_type": "code",
   "execution_count": 16,
   "metadata": {},
   "outputs": [],
   "source": [
    "def get_appointment(cursor):\n",
    "    \n",
    "    appointment_dict = dict()\n",
    "    \n",
    "    return appointment_dict"
   ]
  },
  {
   "cell_type": "code",
   "execution_count": 17,
   "metadata": {},
   "outputs": [],
   "source": [
    "def get_provider_availability(cursor):\n",
    "    \n",
    "    provider_availability_dict = dict()\n",
    "    \n",
    "    return provider_availability_dict"
   ]
  },
  {
   "cell_type": "code",
   "execution_count": 18,
   "metadata": {},
   "outputs": [],
   "source": [
    "def get_appointment_data(cursor):\n",
    "    \n",
    "    appointment_type_dict = get_appointment_type(cursor=cursor)\n",
    "    appointment_dict = get_appointment(cursor=cursor)\n",
    "    provider_availability_dict = get_provider_availability(cursor=cursor)\n",
    "    \n",
    "    appointment_data = {**appointment_type_dict, **appointment_dict, **provider_availability_dict}\n",
    "    \n",
    "    return appointment_data"
   ]
  },
  {
   "cell_type": "markdown",
   "metadata": {},
   "source": [
    "### Assessments"
   ]
  },
  {
   "cell_type": "code",
   "execution_count": 19,
   "metadata": {},
   "outputs": [],
   "source": [
    "def get_assessment(cursor):\n",
    "    \n",
    "    assessment_dict = dict()\n",
    "    \n",
    "    return assessment_dict"
   ]
  },
  {
   "cell_type": "code",
   "execution_count": 20,
   "metadata": {},
   "outputs": [],
   "source": [
    "def get_assessment_type(cursor):\n",
    "    \n",
    "    assessment_type_dict = dict()\n",
    "    \n",
    "    return assessment_type_dict"
   ]
  },
  {
   "cell_type": "code",
   "execution_count": 21,
   "metadata": {},
   "outputs": [],
   "source": [
    "def get_answer(cursor):\n",
    "    \n",
    "    answer_dict = dict()\n",
    "    \n",
    "    return answer_dict"
   ]
  },
  {
   "cell_type": "code",
   "execution_count": 22,
   "metadata": {},
   "outputs": [],
   "source": [
    "def get_answer_category(cursor):\n",
    "    \n",
    "    answer_category_dict = dict()\n",
    "    \n",
    "    return answer_category_dict"
   ]
  },
  {
   "cell_type": "code",
   "execution_count": 23,
   "metadata": {},
   "outputs": [],
   "source": [
    "def get_category(cursor):\n",
    "    \n",
    "    category_dict = dict()\n",
    "    \n",
    "    return category_dict"
   ]
  },
  {
   "cell_type": "code",
   "execution_count": 24,
   "metadata": {},
   "outputs": [],
   "source": [
    "def get_question(cursor):\n",
    "    \n",
    "    question_dict = dict()\n",
    "    \n",
    "    return question_dict"
   ]
  },
  {
   "cell_type": "code",
   "execution_count": 25,
   "metadata": {},
   "outputs": [],
   "source": [
    "def get_question_type(cursor):\n",
    "    \n",
    "    question_type_dict = dict()\n",
    "    \n",
    "    return question_type_dict"
   ]
  },
  {
   "cell_type": "code",
   "execution_count": 26,
   "metadata": {},
   "outputs": [],
   "source": [
    "def get_assessment_data(cursor):\n",
    "    \n",
    "    assessment_dict = get_assessment(cursor=cursor)\n",
    "    assessment_type_dict = get_assessment_type(cursor=cursor)\n",
    "    answer_dict = get_answer(cursor=cursor)\n",
    "    answer_category_dict = get_answer_category(cursor=cursor)\n",
    "    category_dict = get_category(cursor=cursor)\n",
    "    question_dict = get_question(cursor=cursor)\n",
    "    question_type_dict = get_question_type(cursor=cursor)\n",
    "    \n",
    "    assessment_data = {**assessment_dict, **assessment_type_dict, **answer_dict, **answer_category_dict, \n",
    "                       **category_dict, **question_dict, **question_type_dict}\n",
    "    \n",
    "    return assessment_data"
   ]
  },
  {
   "cell_type": "markdown",
   "metadata": {},
   "source": [
    "### Engagement"
   ]
  },
  {
   "cell_type": "code",
   "execution_count": 27,
   "metadata": {},
   "outputs": [],
   "source": [
    "def get_content(cursor):\n",
    "    \n",
    "    content_dict = dict()\n",
    "    \n",
    "    return content_dict"
   ]
  },
  {
   "cell_type": "code",
   "execution_count": 28,
   "metadata": {},
   "outputs": [],
   "source": [
    "def get_activity_tracking(cursor):\n",
    "    \n",
    "    activity_tracking_dict = dict()\n",
    "    \n",
    "    return activity_tracking_dict"
   ]
  },
  {
   "cell_type": "code",
   "execution_count": 29,
   "metadata": {},
   "outputs": [],
   "source": [
    "def get_engagement_data(cursor):\n",
    "    \n",
    "    content_dict = get_content(cursor=cursor)\n",
    "    activity_tracking_dict = get_activity_tracking(cursor=cursor)\n",
    "    \n",
    "    engagement_data = {**content_dict, **activity_tracking_dict}\n",
    "    \n",
    "    return engagement_data"
   ]
  },
  {
   "cell_type": "markdown",
   "metadata": {},
   "source": [
    "### Sessions"
   ]
  },
  {
   "cell_type": "code",
   "execution_count": 30,
   "metadata": {},
   "outputs": [],
   "source": [
    "def get_account_session(cursor):\n",
    "    \n",
    "    account_session_dict = dict()\n",
    "    \n",
    "    return account_session_dict"
   ]
  },
  {
   "cell_type": "code",
   "execution_count": 31,
   "metadata": {},
   "outputs": [],
   "source": [
    "def get_account_session_answer(cursor):\n",
    "    \n",
    "    account_session_answer_dict = dict()\n",
    "    \n",
    "    return account_session_answer_dict"
   ]
  },
  {
   "cell_type": "code",
   "execution_count": 32,
   "metadata": {},
   "outputs": [],
   "source": [
    "def get_session_data(cursor):\n",
    "    \n",
    "    account_session_dict = get_account_session(cursor=cursor)\n",
    "    account_session_answer_dict = get_account_session_answer(cursor=cursor)\n",
    "    \n",
    "    session_data = {**account_session_dict, **account_session_answer_dict}\n",
    "    \n",
    "    return session_data"
   ]
  },
  {
   "cell_type": "markdown",
   "metadata": {},
   "source": [
    "### Outcomes"
   ]
  },
  {
   "cell_type": "code",
   "execution_count": 33,
   "metadata": {},
   "outputs": [],
   "source": [
    "def get_PHQ9(cursor):\n",
    "    \n",
    "    PHQ9_dict = dict()\n",
    "    \n",
    "    return PHQ9_dict"
   ]
  },
  {
   "cell_type": "code",
   "execution_count": 34,
   "metadata": {},
   "outputs": [],
   "source": [
    "def get_GAD7(cursor):\n",
    "    \n",
    "    GAD7_dict = dict()\n",
    "    \n",
    "    return GAD7_dict"
   ]
  },
  {
   "cell_type": "code",
   "execution_count": 35,
   "metadata": {},
   "outputs": [],
   "source": [
    "def get_PHQ4(cursor):\n",
    "    \n",
    "    PHQ4_dict = dict()\n",
    "    \n",
    "    return PHQ4_dict"
   ]
  },
  {
   "cell_type": "code",
   "execution_count": 36,
   "metadata": {},
   "outputs": [],
   "source": [
    "def get_PCPTSD(cursor):\n",
    "    \n",
    "    PCPTSD_dict = dict()\n",
    "    \n",
    "    return PCPTSD_dict"
   ]
  },
  {
   "cell_type": "code",
   "execution_count": 37,
   "metadata": {},
   "outputs": [],
   "source": [
    "def get_outcome_data(cursor):\n",
    "    \n",
    "    PHQ9_dict = get_PHQ9(cursor=cursor)\n",
    "    GAD7_dict = get_GAD7(cursor=cursor)\n",
    "    PHQ4_dict = get_PHQ4(cursor=cursor)\n",
    "    PCPTSD_dict = get_PCPTSD(cursor=cursor)\n",
    "    \n",
    "    outcome_data = {**PHQ9_dict, **GAD7_dict, **PHQ4_dict, **PCPTSD_dict}\n",
    "    \n",
    "    return outcome_data"
   ]
  },
  {
   "cell_type": "markdown",
   "metadata": {},
   "source": [
    "### Output"
   ]
  },
  {
   "cell_type": "code",
   "execution_count": 38,
   "metadata": {},
   "outputs": [],
   "source": [
    "def save_data(save_path):\n",
    "    \n",
    "    \n",
    "    pass"
   ]
  },
  {
   "cell_type": "code",
   "execution_count": 39,
   "metadata": {},
   "outputs": [],
   "source": [
    "def get_data(reporting_only=False, save=False, save_path=''):\n",
    "    cobalt_data = dict()\n",
    "    \n",
    "    # Connect to database\n",
    "    read_cursor,reporting_cursor = database_connect()\n",
    "    \n",
    "    account_data = get_account_data(cursor=read_cursor)\n",
    "    provider_data = get_provider_data(cursor=read_cursor)\n",
    "    appointment_data = get_appointment_data(cursor=read_cursor)\n",
    "    assessment_data = get_assessment_data(cursor=read_cursor)\n",
    "    engagement_data = get_engagement_data(cursor=read_cursor)\n",
    "    session_data = get_session_data(cursor=read_cursor)\n",
    "    outcome_data = get_outcome_data(cursor=read_cursor)\n",
    "    \n",
    "    cobalt_data = {**account_data, **provider_data, **appointment_data, **assessment_data,\n",
    "                   **engagement_data, **session_data, **outcome_data}\n",
    "    \n",
    "    if save:\n",
    "        save_data(save_path=save_path)\n",
    "    \n",
    "    return cobalt_data"
   ]
  },
  {
   "cell_type": "code",
   "execution_count": null,
   "metadata": {},
   "outputs": [],
   "source": []
  },
  {
   "cell_type": "code",
   "execution_count": 40,
   "metadata": {},
   "outputs": [],
   "source": [
    "#cobalt_data = get_data()"
   ]
  },
  {
   "cell_type": "code",
   "execution_count": null,
   "metadata": {},
   "outputs": [],
   "source": []
  },
  {
   "cell_type": "code",
   "execution_count": 32,
   "metadata": {},
   "outputs": [
    {
     "name": "stdout",
     "output_type": "stream",
     "text": [
      "1\n",
      "2\n"
     ]
    }
   ],
   "source": [
    "def kw_func(a,b):\n",
    "    print(a)\n",
    "    print(b)\n",
    "    \n",
    "kw_dict = {'a':1, 'b':2}\n",
    "kw_dict1 = {'c':3, 'd':4}\n",
    "\n",
    "kw_func(**kw_dict)"
   ]
  },
  {
   "cell_type": "code",
   "execution_count": null,
   "metadata": {},
   "outputs": [],
   "source": []
  },
  {
   "cell_type": "code",
   "execution_count": null,
   "metadata": {},
   "outputs": [],
   "source": []
  },
  {
   "cell_type": "code",
   "execution_count": null,
   "metadata": {},
   "outputs": [],
   "source": []
  },
  {
   "cell_type": "code",
   "execution_count": null,
   "metadata": {},
   "outputs": [],
   "source": []
  },
  {
   "cell_type": "code",
   "execution_count": null,
   "metadata": {},
   "outputs": [],
   "source": []
  }
 ],
 "metadata": {
  "kernelspec": {
   "display_name": "Python 3",
   "language": "python",
   "name": "python3"
  },
  "language_info": {
   "codemirror_mode": {
    "name": "ipython",
    "version": 3
   },
   "file_extension": ".py",
   "mimetype": "text/x-python",
   "name": "python",
   "nbconvert_exporter": "python",
   "pygments_lexer": "ipython3",
   "version": "3.7.7"
  }
 },
 "nbformat": 4,
 "nbformat_minor": 4
}
